{
  "cells": [
    {
      "cell_type": "markdown",
      "metadata": {
        "id": "VIEGw3U_l80t"
      },
      "source": [
        "this code is intended for univariate feature selection because data is saved in x_train"
      ]
    },
    {
      "cell_type": "code",
      "execution_count": null,
      "metadata": {
        "colab": {
          "base_uri": "https://localhost:8080/"
        },
        "id": "7A-CoDVcyIx2",
        "outputId": "e07316da-00a6-4bbe-a67d-9a1bd6a0be6e"
      },
      "outputs": [
        {
          "output_type": "stream",
          "name": "stdout",
          "text": [
            "Collecting openpyxl==3.0.9\n",
            "  Downloading openpyxl-3.0.9-py2.py3-none-any.whl (242 kB)\n",
            "\u001b[2K     \u001b[90m━━━━━━━━━━━━━━━━━━━━━━━━━━━━━━━━━━━━━━━━\u001b[0m \u001b[32m242.2/242.2 kB\u001b[0m \u001b[31m4.3 MB/s\u001b[0m eta \u001b[36m0:00:00\u001b[0m\n",
            "\u001b[?25hRequirement already satisfied: et-xmlfile in /usr/local/lib/python3.10/dist-packages (from openpyxl==3.0.9) (1.1.0)\n",
            "Installing collected packages: openpyxl\n",
            "  Attempting uninstall: openpyxl\n",
            "    Found existing installation: openpyxl 3.1.2\n",
            "    Uninstalling openpyxl-3.1.2:\n",
            "      Successfully uninstalled openpyxl-3.1.2\n",
            "Successfully installed openpyxl-3.0.9\n"
          ]
        }
      ],
      "source": [
        "!pip install openpyxl==3.0.9"
      ]
    },
    {
      "cell_type": "code",
      "execution_count": null,
      "metadata": {
        "colab": {
          "base_uri": "https://localhost:8080/"
        },
        "id": "cwNDsiD0YjqI",
        "outputId": "dea6f6b6-6432-40eb-f571-6c0026e69759"
      },
      "outputs": [
        {
          "output_type": "stream",
          "name": "stdout",
          "text": [
            "Collecting catboost\n",
            "  Downloading catboost-1.2.5-cp310-cp310-manylinux2014_x86_64.whl (98.2 MB)\n",
            "\u001b[2K     \u001b[90m━━━━━━━━━━━━━━━━━━━━━━━━━━━━━━━━━━━━━━━━\u001b[0m \u001b[32m98.2/98.2 MB\u001b[0m \u001b[31m7.2 MB/s\u001b[0m eta \u001b[36m0:00:00\u001b[0m\n",
            "\u001b[?25hRequirement already satisfied: graphviz in /usr/local/lib/python3.10/dist-packages (from catboost) (0.20.3)\n",
            "Requirement already satisfied: matplotlib in /usr/local/lib/python3.10/dist-packages (from catboost) (3.7.1)\n",
            "Requirement already satisfied: numpy>=1.16.0 in /usr/local/lib/python3.10/dist-packages (from catboost) (1.25.2)\n",
            "Requirement already satisfied: pandas>=0.24 in /usr/local/lib/python3.10/dist-packages (from catboost) (2.0.3)\n",
            "Requirement already satisfied: scipy in /usr/local/lib/python3.10/dist-packages (from catboost) (1.11.4)\n",
            "Requirement already satisfied: plotly in /usr/local/lib/python3.10/dist-packages (from catboost) (5.15.0)\n",
            "Requirement already satisfied: six in /usr/local/lib/python3.10/dist-packages (from catboost) (1.16.0)\n",
            "Requirement already satisfied: python-dateutil>=2.8.2 in /usr/local/lib/python3.10/dist-packages (from pandas>=0.24->catboost) (2.8.2)\n",
            "Requirement already satisfied: pytz>=2020.1 in /usr/local/lib/python3.10/dist-packages (from pandas>=0.24->catboost) (2023.4)\n",
            "Requirement already satisfied: tzdata>=2022.1 in /usr/local/lib/python3.10/dist-packages (from pandas>=0.24->catboost) (2024.1)\n",
            "Requirement already satisfied: contourpy>=1.0.1 in /usr/local/lib/python3.10/dist-packages (from matplotlib->catboost) (1.2.1)\n",
            "Requirement already satisfied: cycler>=0.10 in /usr/local/lib/python3.10/dist-packages (from matplotlib->catboost) (0.12.1)\n",
            "Requirement already satisfied: fonttools>=4.22.0 in /usr/local/lib/python3.10/dist-packages (from matplotlib->catboost) (4.51.0)\n",
            "Requirement already satisfied: kiwisolver>=1.0.1 in /usr/local/lib/python3.10/dist-packages (from matplotlib->catboost) (1.4.5)\n",
            "Requirement already satisfied: packaging>=20.0 in /usr/local/lib/python3.10/dist-packages (from matplotlib->catboost) (24.0)\n",
            "Requirement already satisfied: pillow>=6.2.0 in /usr/local/lib/python3.10/dist-packages (from matplotlib->catboost) (9.4.0)\n",
            "Requirement already satisfied: pyparsing>=2.3.1 in /usr/local/lib/python3.10/dist-packages (from matplotlib->catboost) (3.1.2)\n",
            "Requirement already satisfied: tenacity>=6.2.0 in /usr/local/lib/python3.10/dist-packages (from plotly->catboost) (8.2.3)\n",
            "Installing collected packages: catboost\n",
            "Successfully installed catboost-1.2.5\n"
          ]
        }
      ],
      "source": [
        "!pip install catboost"
      ]
    },
    {
      "cell_type": "code",
      "execution_count": null,
      "metadata": {
        "id": "VL7_yS72YPF7"
      },
      "outputs": [],
      "source": [
        "import warnings\n",
        "warnings.filterwarnings('ignore')"
      ]
    },
    {
      "cell_type": "markdown",
      "metadata": {
        "id": "SWJGEsDywd2F"
      },
      "source": [
        "# Importing Libraries"
      ]
    },
    {
      "cell_type": "code",
      "execution_count": null,
      "metadata": {
        "id": "iK7tidVDF82Q"
      },
      "outputs": [],
      "source": [
        "import math\n",
        "import pandas as pd\n",
        "import numpy as np\n",
        "import matplotlib.pyplot as plt\n",
        "import seaborn as sns\n",
        "from sklearn.model_selection import train_test_split\n",
        "from sklearn.linear_model import LogisticRegression\n",
        "from sklearn.feature_selection import RFE\n",
        "import scipy.stats as stats\n",
        "from sklearn.metrics import accuracy_score\n",
        "from sklearn.metrics import precision_score\n",
        "from sklearn.metrics import recall_score\n",
        "from sklearn.metrics import f1_score\n",
        "from sklearn.metrics import confusion_matrix\n",
        "from sklearn import metrics\n",
        "from sklearn.neighbors import KNeighborsClassifier\n",
        "from sklearn.tree import DecisionTreeClassifier\n",
        "from sklearn import svm\n",
        "from sklearn.ensemble import RandomForestClassifier\n",
        "from sklearn.naive_bayes import BernoulliNB\n",
        "from sklearn.preprocessing import StandardScaler\n",
        "import statsmodels.api as sm\n",
        "from catboost import CatBoostClassifier"
      ]
    },
    {
      "cell_type": "markdown",
      "metadata": {
        "id": "vFAUH3OYvD2v"
      },
      "source": [
        "Reading the data using pandas"
      ]
    },
    {
      "cell_type": "code",
      "execution_count": null,
      "metadata": {
        "id": "GETT6BNsGHvZ"
      },
      "outputs": [],
      "source": [
        "df=pd.read_excel('/content/pcos main data.xlsx',sheet_name='Full_new')"
      ]
    },
    {
      "cell_type": "markdown",
      "metadata": {
        "id": "fE37lWwfvIgd"
      },
      "source": [
        "'sheet_name' used because the data is on 'full new' sheet\n",
        "\n"
      ]
    },
    {
      "cell_type": "markdown",
      "metadata": {
        "id": "YpSfvyJtvG50"
      },
      "source": [
        "\n",
        "displaying first 5 values"
      ]
    },
    {
      "cell_type": "code",
      "execution_count": null,
      "metadata": {
        "colab": {
          "base_uri": "https://localhost:8080/",
          "height": 369
        },
        "id": "75DXxC7AV-MP",
        "outputId": "415d52e1-b290-4375-b2c0-4bb57cc15429"
      },
      "outputs": [
        {
          "output_type": "execute_result",
          "data": {
            "text/plain": [
              "   Sl. No  Patient File No.  PCOS (Y/N)   Age (yrs)  Weight (Kg)  Height(Cm)   \\\n",
              "0     1.0               1.0         0.0        28.0         44.6        152.0   \n",
              "1     2.0               2.0         0.0        36.0         65.0        161.5   \n",
              "2     3.0               3.0         1.0        33.0         68.8        165.0   \n",
              "3     4.0               4.0         0.0        37.0         65.0        148.0   \n",
              "4     5.0               5.0         0.0        25.0         52.0        161.0   \n",
              "\n",
              "         BMI  Blood Group  Pulse rate(bpm)   RR (breaths/min)  ...  \\\n",
              "0  19.300000         15.0              78.0              22.0  ...   \n",
              "1  24.921163         15.0              74.0              20.0  ...   \n",
              "2  25.270891         11.0              72.0              18.0  ...   \n",
              "3  29.674945         13.0              72.0              20.0  ...   \n",
              "4  20.060954         11.0              72.0              18.0  ...   \n",
              "\n",
              "   Fast food (Y/N)  Reg.Exercise(Y/N)  BP _Systolic (mmHg)  \\\n",
              "0              1.0                0.0                110.0   \n",
              "1              0.0                0.0                120.0   \n",
              "2              1.0                0.0                120.0   \n",
              "3              0.0                0.0                120.0   \n",
              "4              0.0                0.0                120.0   \n",
              "\n",
              "   BP _Diastolic (mmHg)  Follicle No. (L)  Follicle No. (R)  \\\n",
              "0                  80.0               3.0               3.0   \n",
              "1                  70.0               3.0               5.0   \n",
              "2                  80.0              13.0              15.0   \n",
              "3                  70.0               2.0               2.0   \n",
              "4                  80.0               3.0               4.0   \n",
              "\n",
              "   Avg. F size (L) (mm) Avg. F size (R) (mm)  Endometrium (mm)  Unnamed: 44  \n",
              "0                  18.0                 18.0               8.5          NaN  \n",
              "1                  15.0                 14.0               3.7          NaN  \n",
              "2                  18.0                 20.0              10.0          NaN  \n",
              "3                  15.0                 14.0               7.5          NaN  \n",
              "4                  16.0                 14.0               7.0          NaN  \n",
              "\n",
              "[5 rows x 45 columns]"
            ],
            "text/html": [
              "\n",
              "  <div id=\"df-a6e3bb11-7eae-48eb-b2cb-b4ce8cd0b4be\">\n",
              "    <div class=\"colab-df-container\">\n",
              "      <div>\n",
              "<style scoped>\n",
              "    .dataframe tbody tr th:only-of-type {\n",
              "        vertical-align: middle;\n",
              "    }\n",
              "\n",
              "    .dataframe tbody tr th {\n",
              "        vertical-align: top;\n",
              "    }\n",
              "\n",
              "    .dataframe thead th {\n",
              "        text-align: right;\n",
              "    }\n",
              "</style>\n",
              "<table border=\"1\" class=\"dataframe\">\n",
              "  <thead>\n",
              "    <tr style=\"text-align: right;\">\n",
              "      <th></th>\n",
              "      <th>Sl. No</th>\n",
              "      <th>Patient File No.</th>\n",
              "      <th>PCOS (Y/N)</th>\n",
              "      <th>Age (yrs)</th>\n",
              "      <th>Weight (Kg)</th>\n",
              "      <th>Height(Cm)</th>\n",
              "      <th>BMI</th>\n",
              "      <th>Blood Group</th>\n",
              "      <th>Pulse rate(bpm)</th>\n",
              "      <th>RR (breaths/min)</th>\n",
              "      <th>...</th>\n",
              "      <th>Fast food (Y/N)</th>\n",
              "      <th>Reg.Exercise(Y/N)</th>\n",
              "      <th>BP _Systolic (mmHg)</th>\n",
              "      <th>BP _Diastolic (mmHg)</th>\n",
              "      <th>Follicle No. (L)</th>\n",
              "      <th>Follicle No. (R)</th>\n",
              "      <th>Avg. F size (L) (mm)</th>\n",
              "      <th>Avg. F size (R) (mm)</th>\n",
              "      <th>Endometrium (mm)</th>\n",
              "      <th>Unnamed: 44</th>\n",
              "    </tr>\n",
              "  </thead>\n",
              "  <tbody>\n",
              "    <tr>\n",
              "      <th>0</th>\n",
              "      <td>1.0</td>\n",
              "      <td>1.0</td>\n",
              "      <td>0.0</td>\n",
              "      <td>28.0</td>\n",
              "      <td>44.6</td>\n",
              "      <td>152.0</td>\n",
              "      <td>19.300000</td>\n",
              "      <td>15.0</td>\n",
              "      <td>78.0</td>\n",
              "      <td>22.0</td>\n",
              "      <td>...</td>\n",
              "      <td>1.0</td>\n",
              "      <td>0.0</td>\n",
              "      <td>110.0</td>\n",
              "      <td>80.0</td>\n",
              "      <td>3.0</td>\n",
              "      <td>3.0</td>\n",
              "      <td>18.0</td>\n",
              "      <td>18.0</td>\n",
              "      <td>8.5</td>\n",
              "      <td>NaN</td>\n",
              "    </tr>\n",
              "    <tr>\n",
              "      <th>1</th>\n",
              "      <td>2.0</td>\n",
              "      <td>2.0</td>\n",
              "      <td>0.0</td>\n",
              "      <td>36.0</td>\n",
              "      <td>65.0</td>\n",
              "      <td>161.5</td>\n",
              "      <td>24.921163</td>\n",
              "      <td>15.0</td>\n",
              "      <td>74.0</td>\n",
              "      <td>20.0</td>\n",
              "      <td>...</td>\n",
              "      <td>0.0</td>\n",
              "      <td>0.0</td>\n",
              "      <td>120.0</td>\n",
              "      <td>70.0</td>\n",
              "      <td>3.0</td>\n",
              "      <td>5.0</td>\n",
              "      <td>15.0</td>\n",
              "      <td>14.0</td>\n",
              "      <td>3.7</td>\n",
              "      <td>NaN</td>\n",
              "    </tr>\n",
              "    <tr>\n",
              "      <th>2</th>\n",
              "      <td>3.0</td>\n",
              "      <td>3.0</td>\n",
              "      <td>1.0</td>\n",
              "      <td>33.0</td>\n",
              "      <td>68.8</td>\n",
              "      <td>165.0</td>\n",
              "      <td>25.270891</td>\n",
              "      <td>11.0</td>\n",
              "      <td>72.0</td>\n",
              "      <td>18.0</td>\n",
              "      <td>...</td>\n",
              "      <td>1.0</td>\n",
              "      <td>0.0</td>\n",
              "      <td>120.0</td>\n",
              "      <td>80.0</td>\n",
              "      <td>13.0</td>\n",
              "      <td>15.0</td>\n",
              "      <td>18.0</td>\n",
              "      <td>20.0</td>\n",
              "      <td>10.0</td>\n",
              "      <td>NaN</td>\n",
              "    </tr>\n",
              "    <tr>\n",
              "      <th>3</th>\n",
              "      <td>4.0</td>\n",
              "      <td>4.0</td>\n",
              "      <td>0.0</td>\n",
              "      <td>37.0</td>\n",
              "      <td>65.0</td>\n",
              "      <td>148.0</td>\n",
              "      <td>29.674945</td>\n",
              "      <td>13.0</td>\n",
              "      <td>72.0</td>\n",
              "      <td>20.0</td>\n",
              "      <td>...</td>\n",
              "      <td>0.0</td>\n",
              "      <td>0.0</td>\n",
              "      <td>120.0</td>\n",
              "      <td>70.0</td>\n",
              "      <td>2.0</td>\n",
              "      <td>2.0</td>\n",
              "      <td>15.0</td>\n",
              "      <td>14.0</td>\n",
              "      <td>7.5</td>\n",
              "      <td>NaN</td>\n",
              "    </tr>\n",
              "    <tr>\n",
              "      <th>4</th>\n",
              "      <td>5.0</td>\n",
              "      <td>5.0</td>\n",
              "      <td>0.0</td>\n",
              "      <td>25.0</td>\n",
              "      <td>52.0</td>\n",
              "      <td>161.0</td>\n",
              "      <td>20.060954</td>\n",
              "      <td>11.0</td>\n",
              "      <td>72.0</td>\n",
              "      <td>18.0</td>\n",
              "      <td>...</td>\n",
              "      <td>0.0</td>\n",
              "      <td>0.0</td>\n",
              "      <td>120.0</td>\n",
              "      <td>80.0</td>\n",
              "      <td>3.0</td>\n",
              "      <td>4.0</td>\n",
              "      <td>16.0</td>\n",
              "      <td>14.0</td>\n",
              "      <td>7.0</td>\n",
              "      <td>NaN</td>\n",
              "    </tr>\n",
              "  </tbody>\n",
              "</table>\n",
              "<p>5 rows × 45 columns</p>\n",
              "</div>\n",
              "      <button class=\"colab-df-convert\" onclick=\"convertToInteractive('df-a6e3bb11-7eae-48eb-b2cb-b4ce8cd0b4be')\"\n",
              "              title=\"Convert this dataframe to an interactive table.\"\n",
              "              style=\"display:none;\">\n",
              "        \n",
              "  <svg xmlns=\"http://www.w3.org/2000/svg\" height=\"24px\"viewBox=\"0 0 24 24\"\n",
              "       width=\"24px\">\n",
              "    <path d=\"M0 0h24v24H0V0z\" fill=\"none\"/>\n",
              "    <path d=\"M18.56 5.44l.94 2.06.94-2.06 2.06-.94-2.06-.94-.94-2.06-.94 2.06-2.06.94zm-11 1L8.5 8.5l.94-2.06 2.06-.94-2.06-.94L8.5 2.5l-.94 2.06-2.06.94zm10 10l.94 2.06.94-2.06 2.06-.94-2.06-.94-.94-2.06-.94 2.06-2.06.94z\"/><path d=\"M17.41 7.96l-1.37-1.37c-.4-.4-.92-.59-1.43-.59-.52 0-1.04.2-1.43.59L10.3 9.45l-7.72 7.72c-.78.78-.78 2.05 0 2.83L4 21.41c.39.39.9.59 1.41.59.51 0 1.02-.2 1.41-.59l7.78-7.78 2.81-2.81c.8-.78.8-2.07 0-2.86zM5.41 20L4 18.59l7.72-7.72 1.47 1.35L5.41 20z\"/>\n",
              "  </svg>\n",
              "      </button>\n",
              "      \n",
              "  <style>\n",
              "    .colab-df-container {\n",
              "      display:flex;\n",
              "      flex-wrap:wrap;\n",
              "      gap: 12px;\n",
              "    }\n",
              "\n",
              "    .colab-df-convert {\n",
              "      background-color: #E8F0FE;\n",
              "      border: none;\n",
              "      border-radius: 50%;\n",
              "      cursor: pointer;\n",
              "      display: none;\n",
              "      fill: #1967D2;\n",
              "      height: 32px;\n",
              "      padding: 0 0 0 0;\n",
              "      width: 32px;\n",
              "    }\n",
              "\n",
              "    .colab-df-convert:hover {\n",
              "      background-color: #E2EBFA;\n",
              "      box-shadow: 0px 1px 2px rgba(60, 64, 67, 0.3), 0px 1px 3px 1px rgba(60, 64, 67, 0.15);\n",
              "      fill: #174EA6;\n",
              "    }\n",
              "\n",
              "    [theme=dark] .colab-df-convert {\n",
              "      background-color: #3B4455;\n",
              "      fill: #D2E3FC;\n",
              "    }\n",
              "\n",
              "    [theme=dark] .colab-df-convert:hover {\n",
              "      background-color: #434B5C;\n",
              "      box-shadow: 0px 1px 3px 1px rgba(0, 0, 0, 0.15);\n",
              "      filter: drop-shadow(0px 1px 2px rgba(0, 0, 0, 0.3));\n",
              "      fill: #FFFFFF;\n",
              "    }\n",
              "  </style>\n",
              "\n",
              "      <script>\n",
              "        const buttonEl =\n",
              "          document.querySelector('#df-a6e3bb11-7eae-48eb-b2cb-b4ce8cd0b4be button.colab-df-convert');\n",
              "        buttonEl.style.display =\n",
              "          google.colab.kernel.accessAllowed ? 'block' : 'none';\n",
              "\n",
              "        async function convertToInteractive(key) {\n",
              "          const element = document.querySelector('#df-a6e3bb11-7eae-48eb-b2cb-b4ce8cd0b4be');\n",
              "          const dataTable =\n",
              "            await google.colab.kernel.invokeFunction('convertToInteractive',\n",
              "                                                     [key], {});\n",
              "          if (!dataTable) return;\n",
              "\n",
              "          const docLinkHtml = 'Like what you see? Visit the ' +\n",
              "            '<a target=\"_blank\" href=https://colab.research.google.com/notebooks/data_table.ipynb>data table notebook</a>'\n",
              "            + ' to learn more about interactive tables.';\n",
              "          element.innerHTML = '';\n",
              "          dataTable['output_type'] = 'display_data';\n",
              "          await google.colab.output.renderOutput(dataTable, element);\n",
              "          const docLink = document.createElement('div');\n",
              "          docLink.innerHTML = docLinkHtml;\n",
              "          element.appendChild(docLink);\n",
              "        }\n",
              "      </script>\n",
              "    </div>\n",
              "  </div>\n",
              "  "
            ]
          },
          "metadata": {},
          "execution_count": 6
        }
      ],
      "source": [
        "df.head(5)"
      ]
    },
    {
      "cell_type": "code",
      "execution_count": null,
      "metadata": {
        "colab": {
          "base_uri": "https://localhost:8080/",
          "height": 369
        },
        "id": "xniq9rQ8Wd4J",
        "outputId": "d1b383b7-baf0-4e0c-87e7-ccedbcebfb05"
      },
      "outputs": [
        {
          "output_type": "execute_result",
          "data": {
            "text/plain": [
              "     Sl. No  Patient File No.  PCOS (Y/N)   Age (yrs)  Weight (Kg)  \\\n",
              "536   537.0             537.0         0.0        35.0         50.0   \n",
              "537   538.0             538.0         0.0        30.0         63.2   \n",
              "538   539.0             539.0         0.0        36.0         54.0   \n",
              "539   540.0             540.0         0.0        27.0         50.0   \n",
              "540   541.0             541.0         1.0        23.0         82.0   \n",
              "\n",
              "     Height(Cm)    BMI  Blood Group  Pulse rate(bpm)   RR (breaths/min)  ...  \\\n",
              "536      164.592  18.5         17.0              72.0              16.0  ...   \n",
              "537      158.000  25.3         15.0              72.0              18.0  ...   \n",
              "538      152.000  23.4         13.0              74.0              20.0  ...   \n",
              "539      150.000  22.2         15.0              74.0              20.0  ...   \n",
              "540      165.000  30.1         13.0              80.0              20.0  ...   \n",
              "\n",
              "     Fast food (Y/N)  Reg.Exercise(Y/N)  BP _Systolic (mmHg)  \\\n",
              "536              0.0                0.0                110.0   \n",
              "537              0.0                0.0                110.0   \n",
              "538              0.0                0.0                110.0   \n",
              "539              0.0                0.0                110.0   \n",
              "540              1.0                0.0                120.0   \n",
              "\n",
              "     BP _Diastolic (mmHg)  Follicle No. (L)  Follicle No. (R)  \\\n",
              "536                  70.0               1.0               0.0   \n",
              "537                  70.0               9.0               7.0   \n",
              "538                  80.0               1.0               0.0   \n",
              "539                  70.0               7.0               6.0   \n",
              "540                  70.0               9.0              10.0   \n",
              "\n",
              "     Avg. F size (L) (mm) Avg. F size (R) (mm)  Endometrium (mm)  Unnamed: 44  \n",
              "536                  17.5                 10.0               6.7          NaN  \n",
              "537                  19.0                 18.0               8.2          NaN  \n",
              "538                  18.0                  9.0               7.3          NaN  \n",
              "539                  18.0                 16.0              11.5          NaN  \n",
              "540                  19.0                 18.0               6.9          NaN  \n",
              "\n",
              "[5 rows x 45 columns]"
            ],
            "text/html": [
              "\n",
              "  <div id=\"df-123c42b4-3b1a-4e08-9a19-bc9556e6044c\">\n",
              "    <div class=\"colab-df-container\">\n",
              "      <div>\n",
              "<style scoped>\n",
              "    .dataframe tbody tr th:only-of-type {\n",
              "        vertical-align: middle;\n",
              "    }\n",
              "\n",
              "    .dataframe tbody tr th {\n",
              "        vertical-align: top;\n",
              "    }\n",
              "\n",
              "    .dataframe thead th {\n",
              "        text-align: right;\n",
              "    }\n",
              "</style>\n",
              "<table border=\"1\" class=\"dataframe\">\n",
              "  <thead>\n",
              "    <tr style=\"text-align: right;\">\n",
              "      <th></th>\n",
              "      <th>Sl. No</th>\n",
              "      <th>Patient File No.</th>\n",
              "      <th>PCOS (Y/N)</th>\n",
              "      <th>Age (yrs)</th>\n",
              "      <th>Weight (Kg)</th>\n",
              "      <th>Height(Cm)</th>\n",
              "      <th>BMI</th>\n",
              "      <th>Blood Group</th>\n",
              "      <th>Pulse rate(bpm)</th>\n",
              "      <th>RR (breaths/min)</th>\n",
              "      <th>...</th>\n",
              "      <th>Fast food (Y/N)</th>\n",
              "      <th>Reg.Exercise(Y/N)</th>\n",
              "      <th>BP _Systolic (mmHg)</th>\n",
              "      <th>BP _Diastolic (mmHg)</th>\n",
              "      <th>Follicle No. (L)</th>\n",
              "      <th>Follicle No. (R)</th>\n",
              "      <th>Avg. F size (L) (mm)</th>\n",
              "      <th>Avg. F size (R) (mm)</th>\n",
              "      <th>Endometrium (mm)</th>\n",
              "      <th>Unnamed: 44</th>\n",
              "    </tr>\n",
              "  </thead>\n",
              "  <tbody>\n",
              "    <tr>\n",
              "      <th>536</th>\n",
              "      <td>537.0</td>\n",
              "      <td>537.0</td>\n",
              "      <td>0.0</td>\n",
              "      <td>35.0</td>\n",
              "      <td>50.0</td>\n",
              "      <td>164.592</td>\n",
              "      <td>18.5</td>\n",
              "      <td>17.0</td>\n",
              "      <td>72.0</td>\n",
              "      <td>16.0</td>\n",
              "      <td>...</td>\n",
              "      <td>0.0</td>\n",
              "      <td>0.0</td>\n",
              "      <td>110.0</td>\n",
              "      <td>70.0</td>\n",
              "      <td>1.0</td>\n",
              "      <td>0.0</td>\n",
              "      <td>17.5</td>\n",
              "      <td>10.0</td>\n",
              "      <td>6.7</td>\n",
              "      <td>NaN</td>\n",
              "    </tr>\n",
              "    <tr>\n",
              "      <th>537</th>\n",
              "      <td>538.0</td>\n",
              "      <td>538.0</td>\n",
              "      <td>0.0</td>\n",
              "      <td>30.0</td>\n",
              "      <td>63.2</td>\n",
              "      <td>158.000</td>\n",
              "      <td>25.3</td>\n",
              "      <td>15.0</td>\n",
              "      <td>72.0</td>\n",
              "      <td>18.0</td>\n",
              "      <td>...</td>\n",
              "      <td>0.0</td>\n",
              "      <td>0.0</td>\n",
              "      <td>110.0</td>\n",
              "      <td>70.0</td>\n",
              "      <td>9.0</td>\n",
              "      <td>7.0</td>\n",
              "      <td>19.0</td>\n",
              "      <td>18.0</td>\n",
              "      <td>8.2</td>\n",
              "      <td>NaN</td>\n",
              "    </tr>\n",
              "    <tr>\n",
              "      <th>538</th>\n",
              "      <td>539.0</td>\n",
              "      <td>539.0</td>\n",
              "      <td>0.0</td>\n",
              "      <td>36.0</td>\n",
              "      <td>54.0</td>\n",
              "      <td>152.000</td>\n",
              "      <td>23.4</td>\n",
              "      <td>13.0</td>\n",
              "      <td>74.0</td>\n",
              "      <td>20.0</td>\n",
              "      <td>...</td>\n",
              "      <td>0.0</td>\n",
              "      <td>0.0</td>\n",
              "      <td>110.0</td>\n",
              "      <td>80.0</td>\n",
              "      <td>1.0</td>\n",
              "      <td>0.0</td>\n",
              "      <td>18.0</td>\n",
              "      <td>9.0</td>\n",
              "      <td>7.3</td>\n",
              "      <td>NaN</td>\n",
              "    </tr>\n",
              "    <tr>\n",
              "      <th>539</th>\n",
              "      <td>540.0</td>\n",
              "      <td>540.0</td>\n",
              "      <td>0.0</td>\n",
              "      <td>27.0</td>\n",
              "      <td>50.0</td>\n",
              "      <td>150.000</td>\n",
              "      <td>22.2</td>\n",
              "      <td>15.0</td>\n",
              "      <td>74.0</td>\n",
              "      <td>20.0</td>\n",
              "      <td>...</td>\n",
              "      <td>0.0</td>\n",
              "      <td>0.0</td>\n",
              "      <td>110.0</td>\n",
              "      <td>70.0</td>\n",
              "      <td>7.0</td>\n",
              "      <td>6.0</td>\n",
              "      <td>18.0</td>\n",
              "      <td>16.0</td>\n",
              "      <td>11.5</td>\n",
              "      <td>NaN</td>\n",
              "    </tr>\n",
              "    <tr>\n",
              "      <th>540</th>\n",
              "      <td>541.0</td>\n",
              "      <td>541.0</td>\n",
              "      <td>1.0</td>\n",
              "      <td>23.0</td>\n",
              "      <td>82.0</td>\n",
              "      <td>165.000</td>\n",
              "      <td>30.1</td>\n",
              "      <td>13.0</td>\n",
              "      <td>80.0</td>\n",
              "      <td>20.0</td>\n",
              "      <td>...</td>\n",
              "      <td>1.0</td>\n",
              "      <td>0.0</td>\n",
              "      <td>120.0</td>\n",
              "      <td>70.0</td>\n",
              "      <td>9.0</td>\n",
              "      <td>10.0</td>\n",
              "      <td>19.0</td>\n",
              "      <td>18.0</td>\n",
              "      <td>6.9</td>\n",
              "      <td>NaN</td>\n",
              "    </tr>\n",
              "  </tbody>\n",
              "</table>\n",
              "<p>5 rows × 45 columns</p>\n",
              "</div>\n",
              "      <button class=\"colab-df-convert\" onclick=\"convertToInteractive('df-123c42b4-3b1a-4e08-9a19-bc9556e6044c')\"\n",
              "              title=\"Convert this dataframe to an interactive table.\"\n",
              "              style=\"display:none;\">\n",
              "        \n",
              "  <svg xmlns=\"http://www.w3.org/2000/svg\" height=\"24px\"viewBox=\"0 0 24 24\"\n",
              "       width=\"24px\">\n",
              "    <path d=\"M0 0h24v24H0V0z\" fill=\"none\"/>\n",
              "    <path d=\"M18.56 5.44l.94 2.06.94-2.06 2.06-.94-2.06-.94-.94-2.06-.94 2.06-2.06.94zm-11 1L8.5 8.5l.94-2.06 2.06-.94-2.06-.94L8.5 2.5l-.94 2.06-2.06.94zm10 10l.94 2.06.94-2.06 2.06-.94-2.06-.94-.94-2.06-.94 2.06-2.06.94z\"/><path d=\"M17.41 7.96l-1.37-1.37c-.4-.4-.92-.59-1.43-.59-.52 0-1.04.2-1.43.59L10.3 9.45l-7.72 7.72c-.78.78-.78 2.05 0 2.83L4 21.41c.39.39.9.59 1.41.59.51 0 1.02-.2 1.41-.59l7.78-7.78 2.81-2.81c.8-.78.8-2.07 0-2.86zM5.41 20L4 18.59l7.72-7.72 1.47 1.35L5.41 20z\"/>\n",
              "  </svg>\n",
              "      </button>\n",
              "      \n",
              "  <style>\n",
              "    .colab-df-container {\n",
              "      display:flex;\n",
              "      flex-wrap:wrap;\n",
              "      gap: 12px;\n",
              "    }\n",
              "\n",
              "    .colab-df-convert {\n",
              "      background-color: #E8F0FE;\n",
              "      border: none;\n",
              "      border-radius: 50%;\n",
              "      cursor: pointer;\n",
              "      display: none;\n",
              "      fill: #1967D2;\n",
              "      height: 32px;\n",
              "      padding: 0 0 0 0;\n",
              "      width: 32px;\n",
              "    }\n",
              "\n",
              "    .colab-df-convert:hover {\n",
              "      background-color: #E2EBFA;\n",
              "      box-shadow: 0px 1px 2px rgba(60, 64, 67, 0.3), 0px 1px 3px 1px rgba(60, 64, 67, 0.15);\n",
              "      fill: #174EA6;\n",
              "    }\n",
              "\n",
              "    [theme=dark] .colab-df-convert {\n",
              "      background-color: #3B4455;\n",
              "      fill: #D2E3FC;\n",
              "    }\n",
              "\n",
              "    [theme=dark] .colab-df-convert:hover {\n",
              "      background-color: #434B5C;\n",
              "      box-shadow: 0px 1px 3px 1px rgba(0, 0, 0, 0.15);\n",
              "      filter: drop-shadow(0px 1px 2px rgba(0, 0, 0, 0.3));\n",
              "      fill: #FFFFFF;\n",
              "    }\n",
              "  </style>\n",
              "\n",
              "      <script>\n",
              "        const buttonEl =\n",
              "          document.querySelector('#df-123c42b4-3b1a-4e08-9a19-bc9556e6044c button.colab-df-convert');\n",
              "        buttonEl.style.display =\n",
              "          google.colab.kernel.accessAllowed ? 'block' : 'none';\n",
              "\n",
              "        async function convertToInteractive(key) {\n",
              "          const element = document.querySelector('#df-123c42b4-3b1a-4e08-9a19-bc9556e6044c');\n",
              "          const dataTable =\n",
              "            await google.colab.kernel.invokeFunction('convertToInteractive',\n",
              "                                                     [key], {});\n",
              "          if (!dataTable) return;\n",
              "\n",
              "          const docLinkHtml = 'Like what you see? Visit the ' +\n",
              "            '<a target=\"_blank\" href=https://colab.research.google.com/notebooks/data_table.ipynb>data table notebook</a>'\n",
              "            + ' to learn more about interactive tables.';\n",
              "          element.innerHTML = '';\n",
              "          dataTable['output_type'] = 'display_data';\n",
              "          await google.colab.output.renderOutput(dataTable, element);\n",
              "          const docLink = document.createElement('div');\n",
              "          docLink.innerHTML = docLinkHtml;\n",
              "          element.appendChild(docLink);\n",
              "        }\n",
              "      </script>\n",
              "    </div>\n",
              "  </div>\n",
              "  "
            ]
          },
          "metadata": {},
          "execution_count": 7
        }
      ],
      "source": [
        "df.tail(5)"
      ]
    },
    {
      "cell_type": "code",
      "execution_count": null,
      "metadata": {
        "colab": {
          "base_uri": "https://localhost:8080/"
        },
        "id": "u--NXWOncquJ",
        "outputId": "cbc7b008-c774-4420-bd5c-d9e724055402"
      },
      "outputs": [
        {
          "output_type": "stream",
          "name": "stdout",
          "text": [
            "<class 'pandas.core.frame.DataFrame'>\n",
            "RangeIndex: 541 entries, 0 to 540\n",
            "Data columns (total 45 columns):\n",
            " #   Column                  Non-Null Count  Dtype  \n",
            "---  ------                  --------------  -----  \n",
            " 0   Sl. No                  541 non-null    float64\n",
            " 1   Patient File No.        541 non-null    float64\n",
            " 2   PCOS (Y/N)              541 non-null    float64\n",
            " 3    Age (yrs)              541 non-null    float64\n",
            " 4   Weight (Kg)             541 non-null    float64\n",
            " 5   Height(Cm)              541 non-null    float64\n",
            " 6   BMI                     541 non-null    float64\n",
            " 7   Blood Group             541 non-null    float64\n",
            " 8   Pulse rate(bpm)         541 non-null    float64\n",
            " 9   RR (breaths/min)        541 non-null    float64\n",
            " 10  Hb(g/dl)                541 non-null    float64\n",
            " 11  Cycle(R/I)              541 non-null    float64\n",
            " 12  Cycle length(days)      541 non-null    float64\n",
            " 13  Marraige Status (Yrs)   540 non-null    float64\n",
            " 14  Pregnant(Y/N)           541 non-null    float64\n",
            " 15  No. of aborptions       541 non-null    float64\n",
            " 16    I   beta-HCG(mIU/mL)  541 non-null    float64\n",
            " 17  II    beta-HCG(mIU/mL)  541 non-null    object \n",
            " 18  FSH(mIU/mL)             541 non-null    float64\n",
            " 19  LH(mIU/mL)              541 non-null    float64\n",
            " 20  FSH/LH                  541 non-null    float64\n",
            " 21  Hip(inch)               541 non-null    float64\n",
            " 22  Waist(inch)             541 non-null    float64\n",
            " 23  Waist:Hip Ratio         541 non-null    float64\n",
            " 24  TSH (mIU/L)             541 non-null    float64\n",
            " 25  AMH(ng/mL)              541 non-null    object \n",
            " 26  PRL(ng/mL)              541 non-null    float64\n",
            " 27  Vit D3 (ng/mL)          541 non-null    float64\n",
            " 28  PRG(ng/mL)              541 non-null    float64\n",
            " 29  RBS(mg/dl)              541 non-null    float64\n",
            " 30  Weight gain(Y/N)        541 non-null    float64\n",
            " 31  hair growth(Y/N)        541 non-null    float64\n",
            " 32  Skin darkening (Y/N)    541 non-null    float64\n",
            " 33  Hair loss(Y/N)          541 non-null    float64\n",
            " 34  Pimples(Y/N)            541 non-null    float64\n",
            " 35  Fast food (Y/N)         540 non-null    float64\n",
            " 36  Reg.Exercise(Y/N)       541 non-null    float64\n",
            " 37  BP _Systolic (mmHg)     541 non-null    float64\n",
            " 38  BP _Diastolic (mmHg)    541 non-null    float64\n",
            " 39  Follicle No. (L)        541 non-null    float64\n",
            " 40  Follicle No. (R)        541 non-null    float64\n",
            " 41  Avg. F size (L) (mm)    541 non-null    float64\n",
            " 42  Avg. F size (R) (mm)    541 non-null    float64\n",
            " 43  Endometrium (mm)        541 non-null    float64\n",
            " 44  Unnamed: 44             2 non-null      object \n",
            "dtypes: float64(42), object(3)\n",
            "memory usage: 190.3+ KB\n"
          ]
        }
      ],
      "source": [
        "df.info()"
      ]
    },
    {
      "cell_type": "code",
      "execution_count": null,
      "metadata": {
        "colab": {
          "base_uri": "https://localhost:8080/"
        },
        "id": "vXuXBIftcq2h",
        "outputId": "f180749c-6951-4a0a-bd8f-25d72f9d7c73"
      },
      "outputs": [
        {
          "output_type": "execute_result",
          "data": {
            "text/plain": [
              "Sl. No                      0\n",
              "Patient File No.            0\n",
              "PCOS (Y/N)                  0\n",
              " Age (yrs)                  0\n",
              "Weight (Kg)                 0\n",
              "Height(Cm)                  0\n",
              "BMI                         0\n",
              "Blood Group                 0\n",
              "Pulse rate(bpm)             0\n",
              "RR (breaths/min)            0\n",
              "Hb(g/dl)                    0\n",
              "Cycle(R/I)                  0\n",
              "Cycle length(days)          0\n",
              "Marraige Status (Yrs)       1\n",
              "Pregnant(Y/N)               0\n",
              "No. of aborptions           0\n",
              "  I   beta-HCG(mIU/mL)      0\n",
              "II    beta-HCG(mIU/mL)      0\n",
              "FSH(mIU/mL)                 0\n",
              "LH(mIU/mL)                  0\n",
              "FSH/LH                      0\n",
              "Hip(inch)                   0\n",
              "Waist(inch)                 0\n",
              "Waist:Hip Ratio             0\n",
              "TSH (mIU/L)                 0\n",
              "AMH(ng/mL)                  0\n",
              "PRL(ng/mL)                  0\n",
              "Vit D3 (ng/mL)              0\n",
              "PRG(ng/mL)                  0\n",
              "RBS(mg/dl)                  0\n",
              "Weight gain(Y/N)            0\n",
              "hair growth(Y/N)            0\n",
              "Skin darkening (Y/N)        0\n",
              "Hair loss(Y/N)              0\n",
              "Pimples(Y/N)                0\n",
              "Fast food (Y/N)             1\n",
              "Reg.Exercise(Y/N)           0\n",
              "BP _Systolic (mmHg)         0\n",
              "BP _Diastolic (mmHg)        0\n",
              "Follicle No. (L)            0\n",
              "Follicle No. (R)            0\n",
              "Avg. F size (L) (mm)        0\n",
              "Avg. F size (R) (mm)        0\n",
              "Endometrium (mm)            0\n",
              "Unnamed: 44               539\n",
              "dtype: int64"
            ]
          },
          "metadata": {},
          "execution_count": 9
        }
      ],
      "source": [
        "df.isnull().sum()"
      ]
    },
    {
      "cell_type": "markdown",
      "metadata": {
        "id": "Z8opNJ2iwkuM"
      },
      "source": [
        "# Handling missing values"
      ]
    },
    {
      "cell_type": "markdown",
      "metadata": {
        "id": "uqF6ABvqxcGM"
      },
      "source": [
        "as we can see that we have two rows as strings and two rows have 1 value missing in each lets rectify this"
      ]
    },
    {
      "cell_type": "code",
      "execution_count": null,
      "metadata": {
        "id": "-kP51N4Oxl17"
      },
      "outputs": [],
      "source": [
        "df[\"AMH(ng/mL)\"] = pd.to_numeric(df[\"AMH(ng/mL)\"], errors='coerce')\n",
        "df[\"II    beta-HCG(mIU/mL)\"] = pd.to_numeric(df[\"II    beta-HCG(mIU/mL)\"], errors='coerce')"
      ]
    },
    {
      "cell_type": "code",
      "execution_count": null,
      "metadata": {
        "id": "__BHQi4Nyutt"
      },
      "outputs": [],
      "source": [
        "#dealing with missing values by taking mode of that coloumn\n",
        "df['Marraige Status (Yrs)'].fillna(df['Marraige Status (Yrs)'].mode()[0],inplace=True)\n",
        "df['Fast food (Y/N)'].fillna(df['Fast food (Y/N)'].mode()[0],inplace=True)\n",
        "df['II    beta-HCG(mIU/mL)'].fillna(df['II    beta-HCG(mIU/mL)'].mode()[0],inplace=True)\n",
        "df['AMH(ng/mL)'].fillna(df['AMH(ng/mL)'].mode()[0],inplace=True)"
      ]
    },
    {
      "cell_type": "code",
      "execution_count": null,
      "metadata": {
        "id": "Zn6H6ntncjOP"
      },
      "outputs": [],
      "source": [
        "df = df.astype({\"Height(Cm) \":'int',\"Pulse rate(bpm) \":'int',\"PCOS (Y/N)\":'int', \" Age (yrs)\":'int',\"Blood Group\":'int',\"Hip(inch)\":'int',\"Pimples(Y/N)\":'int',\"Waist(inch)\":'int',\"Cycle length(days)\":'int',\"Weight (Kg)\":'int',\"Pregnant(Y/N)\":'int',\"No. of aborptions\":'int',\"RBS(mg/dl)\":'int',\"RR (breaths/min)\":'int',\"Cycle(R/I)\":'int',\"Marraige Status (Yrs)\":'int',\"Weight gain(Y/N)\":'int',\"hair growth(Y/N)\":'int',\"Skin darkening (Y/N)\":'int',\"Hair loss(Y/N)\":'int',\"Fast food (Y/N)\":'int',\"Reg.Exercise(Y/N)\":'int',\"BP _Systolic (mmHg)\":'int',\"BP _Diastolic (mmHg)\":'int',\"Follicle No. (L)\":'int',\"Follicle No. (R)\":'int',\"Avg. F size (L) (mm)\":'int',\"Avg. F size (R) (mm)\":'int'})"
      ]
    },
    {
      "cell_type": "code",
      "execution_count": null,
      "metadata": {
        "colab": {
          "base_uri": "https://localhost:8080/"
        },
        "id": "BUyU7Ef3jUcS",
        "outputId": "b4ae6745-6551-4a60-fb74-22d69d72e7ad"
      },
      "outputs": [
        {
          "output_type": "stream",
          "name": "stdout",
          "text": [
            "<class 'pandas.core.frame.DataFrame'>\n",
            "RangeIndex: 541 entries, 0 to 540\n",
            "Data columns (total 45 columns):\n",
            " #   Column                  Non-Null Count  Dtype  \n",
            "---  ------                  --------------  -----  \n",
            " 0   Sl. No                  541 non-null    float64\n",
            " 1   Patient File No.        541 non-null    float64\n",
            " 2   PCOS (Y/N)              541 non-null    int64  \n",
            " 3    Age (yrs)              541 non-null    int64  \n",
            " 4   Weight (Kg)             541 non-null    int64  \n",
            " 5   Height(Cm)              541 non-null    int64  \n",
            " 6   BMI                     541 non-null    float64\n",
            " 7   Blood Group             541 non-null    int64  \n",
            " 8   Pulse rate(bpm)         541 non-null    int64  \n",
            " 9   RR (breaths/min)        541 non-null    int64  \n",
            " 10  Hb(g/dl)                541 non-null    float64\n",
            " 11  Cycle(R/I)              541 non-null    int64  \n",
            " 12  Cycle length(days)      541 non-null    int64  \n",
            " 13  Marraige Status (Yrs)   541 non-null    int64  \n",
            " 14  Pregnant(Y/N)           541 non-null    int64  \n",
            " 15  No. of aborptions       541 non-null    int64  \n",
            " 16    I   beta-HCG(mIU/mL)  541 non-null    float64\n",
            " 17  II    beta-HCG(mIU/mL)  541 non-null    float64\n",
            " 18  FSH(mIU/mL)             541 non-null    float64\n",
            " 19  LH(mIU/mL)              541 non-null    float64\n",
            " 20  FSH/LH                  541 non-null    float64\n",
            " 21  Hip(inch)               541 non-null    int64  \n",
            " 22  Waist(inch)             541 non-null    int64  \n",
            " 23  Waist:Hip Ratio         541 non-null    float64\n",
            " 24  TSH (mIU/L)             541 non-null    float64\n",
            " 25  AMH(ng/mL)              541 non-null    float64\n",
            " 26  PRL(ng/mL)              541 non-null    float64\n",
            " 27  Vit D3 (ng/mL)          541 non-null    float64\n",
            " 28  PRG(ng/mL)              541 non-null    float64\n",
            " 29  RBS(mg/dl)              541 non-null    int64  \n",
            " 30  Weight gain(Y/N)        541 non-null    int64  \n",
            " 31  hair growth(Y/N)        541 non-null    int64  \n",
            " 32  Skin darkening (Y/N)    541 non-null    int64  \n",
            " 33  Hair loss(Y/N)          541 non-null    int64  \n",
            " 34  Pimples(Y/N)            541 non-null    int64  \n",
            " 35  Fast food (Y/N)         541 non-null    int64  \n",
            " 36  Reg.Exercise(Y/N)       541 non-null    int64  \n",
            " 37  BP _Systolic (mmHg)     541 non-null    int64  \n",
            " 38  BP _Diastolic (mmHg)    541 non-null    int64  \n",
            " 39  Follicle No. (L)        541 non-null    int64  \n",
            " 40  Follicle No. (R)        541 non-null    int64  \n",
            " 41  Avg. F size (L) (mm)    541 non-null    int64  \n",
            " 42  Avg. F size (R) (mm)    541 non-null    int64  \n",
            " 43  Endometrium (mm)        541 non-null    float64\n",
            " 44  Unnamed: 44             2 non-null      object \n",
            "dtypes: float64(16), int64(28), object(1)\n",
            "memory usage: 190.3+ KB\n"
          ]
        }
      ],
      "source": [
        "df.info()"
      ]
    },
    {
      "cell_type": "markdown",
      "metadata": {
        "id": "RhZBj2iBCBhX"
      },
      "source": [
        "# Grouping Data (0,1)"
      ]
    },
    {
      "cell_type": "code",
      "execution_count": null,
      "metadata": {
        "colab": {
          "base_uri": "https://localhost:8080/"
        },
        "id": "ZEmmQHFJ5477",
        "outputId": "4ccdb3a7-cd2d-4b25-cf0a-69b4170d6424"
      },
      "outputs": [
        {
          "output_type": "execute_result",
          "data": {
            "text/plain": [
              "<pandas.core.groupby.generic.DataFrameGroupBy object at 0x7ff537099a10>"
            ]
          },
          "metadata": {},
          "execution_count": 14
        }
      ],
      "source": [
        "#grouping the data\n",
        "g = df.groupby('PCOS (Y/N)')\n",
        "g"
      ]
    },
    {
      "cell_type": "code",
      "execution_count": null,
      "metadata": {
        "colab": {
          "base_uri": "https://localhost:8080/",
          "height": 557
        },
        "id": "TTKz-Qk4a1VI",
        "outputId": "8bfe0cc2-e9ac-4b6c-a4e6-d63d464bdab7"
      },
      "outputs": [
        {
          "output_type": "execute_result",
          "data": {
            "text/plain": [
              "     Sl. No  Patient File No.  PCOS (Y/N)   Age (yrs)  Weight (Kg)  \\\n",
              "2       3.0               3.0           1          33           68   \n",
              "12     13.0              13.0           1          25           74   \n",
              "19     20.0              20.0           1          30           85   \n",
              "24     25.0              25.0           1          34           63   \n",
              "26     27.0              27.0           1          30           76   \n",
              "..      ...               ...         ...         ...          ...   \n",
              "520   521.0             521.0           1          27           50   \n",
              "523   524.0             524.0           1          36           60   \n",
              "524   525.0             525.0           1          27           70   \n",
              "533   534.0             534.0           1          26           53   \n",
              "540   541.0             541.0           1          23           82   \n",
              "\n",
              "     Height(Cm)         BMI  Blood Group  Pulse rate(bpm)   RR (breaths/min)  \\\n",
              "2            165  25.270891           11                72                18   \n",
              "12           152  32.029086           17                72                18   \n",
              "19           165  31.221304           16                72                18   \n",
              "24           158  25.236340           11                72                20   \n",
              "26           160  29.687500           15                75                18   \n",
              "..           ...        ...          ...               ...               ...   \n",
              "520          168  17.700000           13                72                18   \n",
              "523          150  26.700000           15                72                18   \n",
              "524          170  24.000000           13                72                18   \n",
              "533          161  20.500000           14                70                18   \n",
              "540          165  30.100000           13                80                20   \n",
              "\n",
              "     ...  Fast food (Y/N)  Reg.Exercise(Y/N)  BP _Systolic (mmHg)  \\\n",
              "2    ...                1                  0                  120   \n",
              "12   ...                1                  1                  120   \n",
              "19   ...                1                  0                  120   \n",
              "24   ...                1                  0                  120   \n",
              "26   ...                1                  1                  120   \n",
              "..   ...              ...                ...                  ...   \n",
              "520  ...                0                  0                  120   \n",
              "523  ...                0                  0                  110   \n",
              "524  ...                0                  0                  120   \n",
              "533  ...                0                  0                  110   \n",
              "540  ...                1                  0                  120   \n",
              "\n",
              "     BP _Diastolic (mmHg)  Follicle No. (L)  Follicle No. (R)  \\\n",
              "2                      80                13                15   \n",
              "12                     80                15                 8   \n",
              "19                     80                16                 8   \n",
              "24                     70                 4                 6   \n",
              "26                     80                21                20   \n",
              "..                    ...               ...               ...   \n",
              "520                    70                18                20   \n",
              "523                    80                 6                 9   \n",
              "524                    80                 9                10   \n",
              "533                    80                 8                10   \n",
              "540                    70                 9                10   \n",
              "\n",
              "     Avg. F size (L) (mm)  Avg. F size (R) (mm)  Endometrium (mm)  Unnamed: 44  \n",
              "2                      18                    20              10.0          NaN  \n",
              "12                     20                    21               8.0          NaN  \n",
              "19                     18                    17              11.0          NaN  \n",
              "24                     18                    17               7.3          NaN  \n",
              "26                     11                    12               6.8          NaN  \n",
              "..                    ...                   ...               ...          ...  \n",
              "520                    20                    19               7.8          NaN  \n",
              "523                    17                    22               7.6          NaN  \n",
              "524                    21                    23               6.5          NaN  \n",
              "533                    18                    18              10.3          NaN  \n",
              "540                    19                    18               6.9          NaN  \n",
              "\n",
              "[177 rows x 45 columns]"
            ],
            "text/html": [
              "\n",
              "  <div id=\"df-54d93540-20cd-4798-91a3-1a81111dcf3f\">\n",
              "    <div class=\"colab-df-container\">\n",
              "      <div>\n",
              "<style scoped>\n",
              "    .dataframe tbody tr th:only-of-type {\n",
              "        vertical-align: middle;\n",
              "    }\n",
              "\n",
              "    .dataframe tbody tr th {\n",
              "        vertical-align: top;\n",
              "    }\n",
              "\n",
              "    .dataframe thead th {\n",
              "        text-align: right;\n",
              "    }\n",
              "</style>\n",
              "<table border=\"1\" class=\"dataframe\">\n",
              "  <thead>\n",
              "    <tr style=\"text-align: right;\">\n",
              "      <th></th>\n",
              "      <th>Sl. No</th>\n",
              "      <th>Patient File No.</th>\n",
              "      <th>PCOS (Y/N)</th>\n",
              "      <th>Age (yrs)</th>\n",
              "      <th>Weight (Kg)</th>\n",
              "      <th>Height(Cm)</th>\n",
              "      <th>BMI</th>\n",
              "      <th>Blood Group</th>\n",
              "      <th>Pulse rate(bpm)</th>\n",
              "      <th>RR (breaths/min)</th>\n",
              "      <th>...</th>\n",
              "      <th>Fast food (Y/N)</th>\n",
              "      <th>Reg.Exercise(Y/N)</th>\n",
              "      <th>BP _Systolic (mmHg)</th>\n",
              "      <th>BP _Diastolic (mmHg)</th>\n",
              "      <th>Follicle No. (L)</th>\n",
              "      <th>Follicle No. (R)</th>\n",
              "      <th>Avg. F size (L) (mm)</th>\n",
              "      <th>Avg. F size (R) (mm)</th>\n",
              "      <th>Endometrium (mm)</th>\n",
              "      <th>Unnamed: 44</th>\n",
              "    </tr>\n",
              "  </thead>\n",
              "  <tbody>\n",
              "    <tr>\n",
              "      <th>2</th>\n",
              "      <td>3.0</td>\n",
              "      <td>3.0</td>\n",
              "      <td>1</td>\n",
              "      <td>33</td>\n",
              "      <td>68</td>\n",
              "      <td>165</td>\n",
              "      <td>25.270891</td>\n",
              "      <td>11</td>\n",
              "      <td>72</td>\n",
              "      <td>18</td>\n",
              "      <td>...</td>\n",
              "      <td>1</td>\n",
              "      <td>0</td>\n",
              "      <td>120</td>\n",
              "      <td>80</td>\n",
              "      <td>13</td>\n",
              "      <td>15</td>\n",
              "      <td>18</td>\n",
              "      <td>20</td>\n",
              "      <td>10.0</td>\n",
              "      <td>NaN</td>\n",
              "    </tr>\n",
              "    <tr>\n",
              "      <th>12</th>\n",
              "      <td>13.0</td>\n",
              "      <td>13.0</td>\n",
              "      <td>1</td>\n",
              "      <td>25</td>\n",
              "      <td>74</td>\n",
              "      <td>152</td>\n",
              "      <td>32.029086</td>\n",
              "      <td>17</td>\n",
              "      <td>72</td>\n",
              "      <td>18</td>\n",
              "      <td>...</td>\n",
              "      <td>1</td>\n",
              "      <td>1</td>\n",
              "      <td>120</td>\n",
              "      <td>80</td>\n",
              "      <td>15</td>\n",
              "      <td>8</td>\n",
              "      <td>20</td>\n",
              "      <td>21</td>\n",
              "      <td>8.0</td>\n",
              "      <td>NaN</td>\n",
              "    </tr>\n",
              "    <tr>\n",
              "      <th>19</th>\n",
              "      <td>20.0</td>\n",
              "      <td>20.0</td>\n",
              "      <td>1</td>\n",
              "      <td>30</td>\n",
              "      <td>85</td>\n",
              "      <td>165</td>\n",
              "      <td>31.221304</td>\n",
              "      <td>16</td>\n",
              "      <td>72</td>\n",
              "      <td>18</td>\n",
              "      <td>...</td>\n",
              "      <td>1</td>\n",
              "      <td>0</td>\n",
              "      <td>120</td>\n",
              "      <td>80</td>\n",
              "      <td>16</td>\n",
              "      <td>8</td>\n",
              "      <td>18</td>\n",
              "      <td>17</td>\n",
              "      <td>11.0</td>\n",
              "      <td>NaN</td>\n",
              "    </tr>\n",
              "    <tr>\n",
              "      <th>24</th>\n",
              "      <td>25.0</td>\n",
              "      <td>25.0</td>\n",
              "      <td>1</td>\n",
              "      <td>34</td>\n",
              "      <td>63</td>\n",
              "      <td>158</td>\n",
              "      <td>25.236340</td>\n",
              "      <td>11</td>\n",
              "      <td>72</td>\n",
              "      <td>20</td>\n",
              "      <td>...</td>\n",
              "      <td>1</td>\n",
              "      <td>0</td>\n",
              "      <td>120</td>\n",
              "      <td>70</td>\n",
              "      <td>4</td>\n",
              "      <td>6</td>\n",
              "      <td>18</td>\n",
              "      <td>17</td>\n",
              "      <td>7.3</td>\n",
              "      <td>NaN</td>\n",
              "    </tr>\n",
              "    <tr>\n",
              "      <th>26</th>\n",
              "      <td>27.0</td>\n",
              "      <td>27.0</td>\n",
              "      <td>1</td>\n",
              "      <td>30</td>\n",
              "      <td>76</td>\n",
              "      <td>160</td>\n",
              "      <td>29.687500</td>\n",
              "      <td>15</td>\n",
              "      <td>75</td>\n",
              "      <td>18</td>\n",
              "      <td>...</td>\n",
              "      <td>1</td>\n",
              "      <td>1</td>\n",
              "      <td>120</td>\n",
              "      <td>80</td>\n",
              "      <td>21</td>\n",
              "      <td>20</td>\n",
              "      <td>11</td>\n",
              "      <td>12</td>\n",
              "      <td>6.8</td>\n",
              "      <td>NaN</td>\n",
              "    </tr>\n",
              "    <tr>\n",
              "      <th>...</th>\n",
              "      <td>...</td>\n",
              "      <td>...</td>\n",
              "      <td>...</td>\n",
              "      <td>...</td>\n",
              "      <td>...</td>\n",
              "      <td>...</td>\n",
              "      <td>...</td>\n",
              "      <td>...</td>\n",
              "      <td>...</td>\n",
              "      <td>...</td>\n",
              "      <td>...</td>\n",
              "      <td>...</td>\n",
              "      <td>...</td>\n",
              "      <td>...</td>\n",
              "      <td>...</td>\n",
              "      <td>...</td>\n",
              "      <td>...</td>\n",
              "      <td>...</td>\n",
              "      <td>...</td>\n",
              "      <td>...</td>\n",
              "      <td>...</td>\n",
              "    </tr>\n",
              "    <tr>\n",
              "      <th>520</th>\n",
              "      <td>521.0</td>\n",
              "      <td>521.0</td>\n",
              "      <td>1</td>\n",
              "      <td>27</td>\n",
              "      <td>50</td>\n",
              "      <td>168</td>\n",
              "      <td>17.700000</td>\n",
              "      <td>13</td>\n",
              "      <td>72</td>\n",
              "      <td>18</td>\n",
              "      <td>...</td>\n",
              "      <td>0</td>\n",
              "      <td>0</td>\n",
              "      <td>120</td>\n",
              "      <td>70</td>\n",
              "      <td>18</td>\n",
              "      <td>20</td>\n",
              "      <td>20</td>\n",
              "      <td>19</td>\n",
              "      <td>7.8</td>\n",
              "      <td>NaN</td>\n",
              "    </tr>\n",
              "    <tr>\n",
              "      <th>523</th>\n",
              "      <td>524.0</td>\n",
              "      <td>524.0</td>\n",
              "      <td>1</td>\n",
              "      <td>36</td>\n",
              "      <td>60</td>\n",
              "      <td>150</td>\n",
              "      <td>26.700000</td>\n",
              "      <td>15</td>\n",
              "      <td>72</td>\n",
              "      <td>18</td>\n",
              "      <td>...</td>\n",
              "      <td>0</td>\n",
              "      <td>0</td>\n",
              "      <td>110</td>\n",
              "      <td>80</td>\n",
              "      <td>6</td>\n",
              "      <td>9</td>\n",
              "      <td>17</td>\n",
              "      <td>22</td>\n",
              "      <td>7.6</td>\n",
              "      <td>NaN</td>\n",
              "    </tr>\n",
              "    <tr>\n",
              "      <th>524</th>\n",
              "      <td>525.0</td>\n",
              "      <td>525.0</td>\n",
              "      <td>1</td>\n",
              "      <td>27</td>\n",
              "      <td>70</td>\n",
              "      <td>170</td>\n",
              "      <td>24.000000</td>\n",
              "      <td>13</td>\n",
              "      <td>72</td>\n",
              "      <td>18</td>\n",
              "      <td>...</td>\n",
              "      <td>0</td>\n",
              "      <td>0</td>\n",
              "      <td>120</td>\n",
              "      <td>80</td>\n",
              "      <td>9</td>\n",
              "      <td>10</td>\n",
              "      <td>21</td>\n",
              "      <td>23</td>\n",
              "      <td>6.5</td>\n",
              "      <td>NaN</td>\n",
              "    </tr>\n",
              "    <tr>\n",
              "      <th>533</th>\n",
              "      <td>534.0</td>\n",
              "      <td>534.0</td>\n",
              "      <td>1</td>\n",
              "      <td>26</td>\n",
              "      <td>53</td>\n",
              "      <td>161</td>\n",
              "      <td>20.500000</td>\n",
              "      <td>14</td>\n",
              "      <td>70</td>\n",
              "      <td>18</td>\n",
              "      <td>...</td>\n",
              "      <td>0</td>\n",
              "      <td>0</td>\n",
              "      <td>110</td>\n",
              "      <td>80</td>\n",
              "      <td>8</td>\n",
              "      <td>10</td>\n",
              "      <td>18</td>\n",
              "      <td>18</td>\n",
              "      <td>10.3</td>\n",
              "      <td>NaN</td>\n",
              "    </tr>\n",
              "    <tr>\n",
              "      <th>540</th>\n",
              "      <td>541.0</td>\n",
              "      <td>541.0</td>\n",
              "      <td>1</td>\n",
              "      <td>23</td>\n",
              "      <td>82</td>\n",
              "      <td>165</td>\n",
              "      <td>30.100000</td>\n",
              "      <td>13</td>\n",
              "      <td>80</td>\n",
              "      <td>20</td>\n",
              "      <td>...</td>\n",
              "      <td>1</td>\n",
              "      <td>0</td>\n",
              "      <td>120</td>\n",
              "      <td>70</td>\n",
              "      <td>9</td>\n",
              "      <td>10</td>\n",
              "      <td>19</td>\n",
              "      <td>18</td>\n",
              "      <td>6.9</td>\n",
              "      <td>NaN</td>\n",
              "    </tr>\n",
              "  </tbody>\n",
              "</table>\n",
              "<p>177 rows × 45 columns</p>\n",
              "</div>\n",
              "      <button class=\"colab-df-convert\" onclick=\"convertToInteractive('df-54d93540-20cd-4798-91a3-1a81111dcf3f')\"\n",
              "              title=\"Convert this dataframe to an interactive table.\"\n",
              "              style=\"display:none;\">\n",
              "        \n",
              "  <svg xmlns=\"http://www.w3.org/2000/svg\" height=\"24px\"viewBox=\"0 0 24 24\"\n",
              "       width=\"24px\">\n",
              "    <path d=\"M0 0h24v24H0V0z\" fill=\"none\"/>\n",
              "    <path d=\"M18.56 5.44l.94 2.06.94-2.06 2.06-.94-2.06-.94-.94-2.06-.94 2.06-2.06.94zm-11 1L8.5 8.5l.94-2.06 2.06-.94-2.06-.94L8.5 2.5l-.94 2.06-2.06.94zm10 10l.94 2.06.94-2.06 2.06-.94-2.06-.94-.94-2.06-.94 2.06-2.06.94z\"/><path d=\"M17.41 7.96l-1.37-1.37c-.4-.4-.92-.59-1.43-.59-.52 0-1.04.2-1.43.59L10.3 9.45l-7.72 7.72c-.78.78-.78 2.05 0 2.83L4 21.41c.39.39.9.59 1.41.59.51 0 1.02-.2 1.41-.59l7.78-7.78 2.81-2.81c.8-.78.8-2.07 0-2.86zM5.41 20L4 18.59l7.72-7.72 1.47 1.35L5.41 20z\"/>\n",
              "  </svg>\n",
              "      </button>\n",
              "      \n",
              "  <style>\n",
              "    .colab-df-container {\n",
              "      display:flex;\n",
              "      flex-wrap:wrap;\n",
              "      gap: 12px;\n",
              "    }\n",
              "\n",
              "    .colab-df-convert {\n",
              "      background-color: #E8F0FE;\n",
              "      border: none;\n",
              "      border-radius: 50%;\n",
              "      cursor: pointer;\n",
              "      display: none;\n",
              "      fill: #1967D2;\n",
              "      height: 32px;\n",
              "      padding: 0 0 0 0;\n",
              "      width: 32px;\n",
              "    }\n",
              "\n",
              "    .colab-df-convert:hover {\n",
              "      background-color: #E2EBFA;\n",
              "      box-shadow: 0px 1px 2px rgba(60, 64, 67, 0.3), 0px 1px 3px 1px rgba(60, 64, 67, 0.15);\n",
              "      fill: #174EA6;\n",
              "    }\n",
              "\n",
              "    [theme=dark] .colab-df-convert {\n",
              "      background-color: #3B4455;\n",
              "      fill: #D2E3FC;\n",
              "    }\n",
              "\n",
              "    [theme=dark] .colab-df-convert:hover {\n",
              "      background-color: #434B5C;\n",
              "      box-shadow: 0px 1px 3px 1px rgba(0, 0, 0, 0.15);\n",
              "      filter: drop-shadow(0px 1px 2px rgba(0, 0, 0, 0.3));\n",
              "      fill: #FFFFFF;\n",
              "    }\n",
              "  </style>\n",
              "\n",
              "      <script>\n",
              "        const buttonEl =\n",
              "          document.querySelector('#df-54d93540-20cd-4798-91a3-1a81111dcf3f button.colab-df-convert');\n",
              "        buttonEl.style.display =\n",
              "          google.colab.kernel.accessAllowed ? 'block' : 'none';\n",
              "\n",
              "        async function convertToInteractive(key) {\n",
              "          const element = document.querySelector('#df-54d93540-20cd-4798-91a3-1a81111dcf3f');\n",
              "          const dataTable =\n",
              "            await google.colab.kernel.invokeFunction('convertToInteractive',\n",
              "                                                     [key], {});\n",
              "          if (!dataTable) return;\n",
              "\n",
              "          const docLinkHtml = 'Like what you see? Visit the ' +\n",
              "            '<a target=\"_blank\" href=https://colab.research.google.com/notebooks/data_table.ipynb>data table notebook</a>'\n",
              "            + ' to learn more about interactive tables.';\n",
              "          element.innerHTML = '';\n",
              "          dataTable['output_type'] = 'display_data';\n",
              "          await google.colab.output.renderOutput(dataTable, element);\n",
              "          const docLink = document.createElement('div');\n",
              "          docLink.innerHTML = docLinkHtml;\n",
              "          element.appendChild(docLink);\n",
              "        }\n",
              "      </script>\n",
              "    </div>\n",
              "  </div>\n",
              "  "
            ]
          },
          "metadata": {},
          "execution_count": 15
        }
      ],
      "source": [
        "p1=g.get_group(1)\n",
        "p1"
      ]
    },
    {
      "cell_type": "code",
      "execution_count": null,
      "metadata": {
        "colab": {
          "base_uri": "https://localhost:8080/",
          "height": 557
        },
        "id": "fSukjwtUdWwW",
        "outputId": "4b2943c7-d812-4c4e-e393-1d09ce0b937d"
      },
      "outputs": [
        {
          "output_type": "execute_result",
          "data": {
            "text/plain": [
              "     Sl. No  Patient File No.  PCOS (Y/N)   Age (yrs)  Weight (Kg)  \\\n",
              "0       1.0               1.0           0          28           44   \n",
              "1       2.0               2.0           0          36           65   \n",
              "3       4.0               4.0           0          37           65   \n",
              "4       5.0               5.0           0          25           52   \n",
              "5       6.0               6.0           0          36           74   \n",
              "..      ...               ...         ...         ...          ...   \n",
              "535   536.0             536.0           0          26           80   \n",
              "536   537.0             537.0           0          35           50   \n",
              "537   538.0             538.0           0          30           63   \n",
              "538   539.0             539.0           0          36           54   \n",
              "539   540.0             540.0           0          27           50   \n",
              "\n",
              "     Height(Cm)         BMI  Blood Group  Pulse rate(bpm)   RR (breaths/min)  \\\n",
              "0            152  19.300000           15                78                22   \n",
              "1            161  24.921163           15                74                20   \n",
              "3            148  29.674945           13                72                20   \n",
              "4            161  20.060954           11                72                18   \n",
              "5            165  27.217631           15                78                28   \n",
              "..           ...        ...          ...               ...               ...   \n",
              "535          161  30.700000           18                70                18   \n",
              "536          164  18.500000           17                72                16   \n",
              "537          158  25.300000           15                72                18   \n",
              "538          152  23.400000           13                74                20   \n",
              "539          150  22.200000           15                74                20   \n",
              "\n",
              "     ...  Fast food (Y/N)  Reg.Exercise(Y/N)  BP _Systolic (mmHg)  \\\n",
              "0    ...                1                  0                  110   \n",
              "1    ...                0                  0                  120   \n",
              "3    ...                0                  0                  120   \n",
              "4    ...                0                  0                  120   \n",
              "5    ...                0                  0                  110   \n",
              "..   ...              ...                ...                  ...   \n",
              "535  ...                0                  0                  110   \n",
              "536  ...                0                  0                  110   \n",
              "537  ...                0                  0                  110   \n",
              "538  ...                0                  0                  110   \n",
              "539  ...                0                  0                  110   \n",
              "\n",
              "     BP _Diastolic (mmHg)  Follicle No. (L)  Follicle No. (R)  \\\n",
              "0                      80                 3                 3   \n",
              "1                      70                 3                 5   \n",
              "3                      70                 2                 2   \n",
              "4                      80                 3                 4   \n",
              "5                      70                 9                 6   \n",
              "..                    ...               ...               ...   \n",
              "535                    80                 7                 9   \n",
              "536                    70                 1                 0   \n",
              "537                    70                 9                 7   \n",
              "538                    80                 1                 0   \n",
              "539                    70                 7                 6   \n",
              "\n",
              "     Avg. F size (L) (mm)  Avg. F size (R) (mm)  Endometrium (mm)  Unnamed: 44  \n",
              "0                      18                    18               8.5          NaN  \n",
              "1                      15                    14               3.7          NaN  \n",
              "3                      15                    14               7.5          NaN  \n",
              "4                      16                    14               7.0          NaN  \n",
              "5                      16                    20               8.0          NaN  \n",
              "..                    ...                   ...               ...          ...  \n",
              "535                    13                    17               9.6          NaN  \n",
              "536                    17                    10               6.7          NaN  \n",
              "537                    19                    18               8.2          NaN  \n",
              "538                    18                     9               7.3          NaN  \n",
              "539                    18                    16              11.5          NaN  \n",
              "\n",
              "[364 rows x 45 columns]"
            ],
            "text/html": [
              "\n",
              "  <div id=\"df-7f561352-5e21-4b7e-bec9-b81ce6de7035\">\n",
              "    <div class=\"colab-df-container\">\n",
              "      <div>\n",
              "<style scoped>\n",
              "    .dataframe tbody tr th:only-of-type {\n",
              "        vertical-align: middle;\n",
              "    }\n",
              "\n",
              "    .dataframe tbody tr th {\n",
              "        vertical-align: top;\n",
              "    }\n",
              "\n",
              "    .dataframe thead th {\n",
              "        text-align: right;\n",
              "    }\n",
              "</style>\n",
              "<table border=\"1\" class=\"dataframe\">\n",
              "  <thead>\n",
              "    <tr style=\"text-align: right;\">\n",
              "      <th></th>\n",
              "      <th>Sl. No</th>\n",
              "      <th>Patient File No.</th>\n",
              "      <th>PCOS (Y/N)</th>\n",
              "      <th>Age (yrs)</th>\n",
              "      <th>Weight (Kg)</th>\n",
              "      <th>Height(Cm)</th>\n",
              "      <th>BMI</th>\n",
              "      <th>Blood Group</th>\n",
              "      <th>Pulse rate(bpm)</th>\n",
              "      <th>RR (breaths/min)</th>\n",
              "      <th>...</th>\n",
              "      <th>Fast food (Y/N)</th>\n",
              "      <th>Reg.Exercise(Y/N)</th>\n",
              "      <th>BP _Systolic (mmHg)</th>\n",
              "      <th>BP _Diastolic (mmHg)</th>\n",
              "      <th>Follicle No. (L)</th>\n",
              "      <th>Follicle No. (R)</th>\n",
              "      <th>Avg. F size (L) (mm)</th>\n",
              "      <th>Avg. F size (R) (mm)</th>\n",
              "      <th>Endometrium (mm)</th>\n",
              "      <th>Unnamed: 44</th>\n",
              "    </tr>\n",
              "  </thead>\n",
              "  <tbody>\n",
              "    <tr>\n",
              "      <th>0</th>\n",
              "      <td>1.0</td>\n",
              "      <td>1.0</td>\n",
              "      <td>0</td>\n",
              "      <td>28</td>\n",
              "      <td>44</td>\n",
              "      <td>152</td>\n",
              "      <td>19.300000</td>\n",
              "      <td>15</td>\n",
              "      <td>78</td>\n",
              "      <td>22</td>\n",
              "      <td>...</td>\n",
              "      <td>1</td>\n",
              "      <td>0</td>\n",
              "      <td>110</td>\n",
              "      <td>80</td>\n",
              "      <td>3</td>\n",
              "      <td>3</td>\n",
              "      <td>18</td>\n",
              "      <td>18</td>\n",
              "      <td>8.5</td>\n",
              "      <td>NaN</td>\n",
              "    </tr>\n",
              "    <tr>\n",
              "      <th>1</th>\n",
              "      <td>2.0</td>\n",
              "      <td>2.0</td>\n",
              "      <td>0</td>\n",
              "      <td>36</td>\n",
              "      <td>65</td>\n",
              "      <td>161</td>\n",
              "      <td>24.921163</td>\n",
              "      <td>15</td>\n",
              "      <td>74</td>\n",
              "      <td>20</td>\n",
              "      <td>...</td>\n",
              "      <td>0</td>\n",
              "      <td>0</td>\n",
              "      <td>120</td>\n",
              "      <td>70</td>\n",
              "      <td>3</td>\n",
              "      <td>5</td>\n",
              "      <td>15</td>\n",
              "      <td>14</td>\n",
              "      <td>3.7</td>\n",
              "      <td>NaN</td>\n",
              "    </tr>\n",
              "    <tr>\n",
              "      <th>3</th>\n",
              "      <td>4.0</td>\n",
              "      <td>4.0</td>\n",
              "      <td>0</td>\n",
              "      <td>37</td>\n",
              "      <td>65</td>\n",
              "      <td>148</td>\n",
              "      <td>29.674945</td>\n",
              "      <td>13</td>\n",
              "      <td>72</td>\n",
              "      <td>20</td>\n",
              "      <td>...</td>\n",
              "      <td>0</td>\n",
              "      <td>0</td>\n",
              "      <td>120</td>\n",
              "      <td>70</td>\n",
              "      <td>2</td>\n",
              "      <td>2</td>\n",
              "      <td>15</td>\n",
              "      <td>14</td>\n",
              "      <td>7.5</td>\n",
              "      <td>NaN</td>\n",
              "    </tr>\n",
              "    <tr>\n",
              "      <th>4</th>\n",
              "      <td>5.0</td>\n",
              "      <td>5.0</td>\n",
              "      <td>0</td>\n",
              "      <td>25</td>\n",
              "      <td>52</td>\n",
              "      <td>161</td>\n",
              "      <td>20.060954</td>\n",
              "      <td>11</td>\n",
              "      <td>72</td>\n",
              "      <td>18</td>\n",
              "      <td>...</td>\n",
              "      <td>0</td>\n",
              "      <td>0</td>\n",
              "      <td>120</td>\n",
              "      <td>80</td>\n",
              "      <td>3</td>\n",
              "      <td>4</td>\n",
              "      <td>16</td>\n",
              "      <td>14</td>\n",
              "      <td>7.0</td>\n",
              "      <td>NaN</td>\n",
              "    </tr>\n",
              "    <tr>\n",
              "      <th>5</th>\n",
              "      <td>6.0</td>\n",
              "      <td>6.0</td>\n",
              "      <td>0</td>\n",
              "      <td>36</td>\n",
              "      <td>74</td>\n",
              "      <td>165</td>\n",
              "      <td>27.217631</td>\n",
              "      <td>15</td>\n",
              "      <td>78</td>\n",
              "      <td>28</td>\n",
              "      <td>...</td>\n",
              "      <td>0</td>\n",
              "      <td>0</td>\n",
              "      <td>110</td>\n",
              "      <td>70</td>\n",
              "      <td>9</td>\n",
              "      <td>6</td>\n",
              "      <td>16</td>\n",
              "      <td>20</td>\n",
              "      <td>8.0</td>\n",
              "      <td>NaN</td>\n",
              "    </tr>\n",
              "    <tr>\n",
              "      <th>...</th>\n",
              "      <td>...</td>\n",
              "      <td>...</td>\n",
              "      <td>...</td>\n",
              "      <td>...</td>\n",
              "      <td>...</td>\n",
              "      <td>...</td>\n",
              "      <td>...</td>\n",
              "      <td>...</td>\n",
              "      <td>...</td>\n",
              "      <td>...</td>\n",
              "      <td>...</td>\n",
              "      <td>...</td>\n",
              "      <td>...</td>\n",
              "      <td>...</td>\n",
              "      <td>...</td>\n",
              "      <td>...</td>\n",
              "      <td>...</td>\n",
              "      <td>...</td>\n",
              "      <td>...</td>\n",
              "      <td>...</td>\n",
              "      <td>...</td>\n",
              "    </tr>\n",
              "    <tr>\n",
              "      <th>535</th>\n",
              "      <td>536.0</td>\n",
              "      <td>536.0</td>\n",
              "      <td>0</td>\n",
              "      <td>26</td>\n",
              "      <td>80</td>\n",
              "      <td>161</td>\n",
              "      <td>30.700000</td>\n",
              "      <td>18</td>\n",
              "      <td>70</td>\n",
              "      <td>18</td>\n",
              "      <td>...</td>\n",
              "      <td>0</td>\n",
              "      <td>0</td>\n",
              "      <td>110</td>\n",
              "      <td>80</td>\n",
              "      <td>7</td>\n",
              "      <td>9</td>\n",
              "      <td>13</td>\n",
              "      <td>17</td>\n",
              "      <td>9.6</td>\n",
              "      <td>NaN</td>\n",
              "    </tr>\n",
              "    <tr>\n",
              "      <th>536</th>\n",
              "      <td>537.0</td>\n",
              "      <td>537.0</td>\n",
              "      <td>0</td>\n",
              "      <td>35</td>\n",
              "      <td>50</td>\n",
              "      <td>164</td>\n",
              "      <td>18.500000</td>\n",
              "      <td>17</td>\n",
              "      <td>72</td>\n",
              "      <td>16</td>\n",
              "      <td>...</td>\n",
              "      <td>0</td>\n",
              "      <td>0</td>\n",
              "      <td>110</td>\n",
              "      <td>70</td>\n",
              "      <td>1</td>\n",
              "      <td>0</td>\n",
              "      <td>17</td>\n",
              "      <td>10</td>\n",
              "      <td>6.7</td>\n",
              "      <td>NaN</td>\n",
              "    </tr>\n",
              "    <tr>\n",
              "      <th>537</th>\n",
              "      <td>538.0</td>\n",
              "      <td>538.0</td>\n",
              "      <td>0</td>\n",
              "      <td>30</td>\n",
              "      <td>63</td>\n",
              "      <td>158</td>\n",
              "      <td>25.300000</td>\n",
              "      <td>15</td>\n",
              "      <td>72</td>\n",
              "      <td>18</td>\n",
              "      <td>...</td>\n",
              "      <td>0</td>\n",
              "      <td>0</td>\n",
              "      <td>110</td>\n",
              "      <td>70</td>\n",
              "      <td>9</td>\n",
              "      <td>7</td>\n",
              "      <td>19</td>\n",
              "      <td>18</td>\n",
              "      <td>8.2</td>\n",
              "      <td>NaN</td>\n",
              "    </tr>\n",
              "    <tr>\n",
              "      <th>538</th>\n",
              "      <td>539.0</td>\n",
              "      <td>539.0</td>\n",
              "      <td>0</td>\n",
              "      <td>36</td>\n",
              "      <td>54</td>\n",
              "      <td>152</td>\n",
              "      <td>23.400000</td>\n",
              "      <td>13</td>\n",
              "      <td>74</td>\n",
              "      <td>20</td>\n",
              "      <td>...</td>\n",
              "      <td>0</td>\n",
              "      <td>0</td>\n",
              "      <td>110</td>\n",
              "      <td>80</td>\n",
              "      <td>1</td>\n",
              "      <td>0</td>\n",
              "      <td>18</td>\n",
              "      <td>9</td>\n",
              "      <td>7.3</td>\n",
              "      <td>NaN</td>\n",
              "    </tr>\n",
              "    <tr>\n",
              "      <th>539</th>\n",
              "      <td>540.0</td>\n",
              "      <td>540.0</td>\n",
              "      <td>0</td>\n",
              "      <td>27</td>\n",
              "      <td>50</td>\n",
              "      <td>150</td>\n",
              "      <td>22.200000</td>\n",
              "      <td>15</td>\n",
              "      <td>74</td>\n",
              "      <td>20</td>\n",
              "      <td>...</td>\n",
              "      <td>0</td>\n",
              "      <td>0</td>\n",
              "      <td>110</td>\n",
              "      <td>70</td>\n",
              "      <td>7</td>\n",
              "      <td>6</td>\n",
              "      <td>18</td>\n",
              "      <td>16</td>\n",
              "      <td>11.5</td>\n",
              "      <td>NaN</td>\n",
              "    </tr>\n",
              "  </tbody>\n",
              "</table>\n",
              "<p>364 rows × 45 columns</p>\n",
              "</div>\n",
              "      <button class=\"colab-df-convert\" onclick=\"convertToInteractive('df-7f561352-5e21-4b7e-bec9-b81ce6de7035')\"\n",
              "              title=\"Convert this dataframe to an interactive table.\"\n",
              "              style=\"display:none;\">\n",
              "        \n",
              "  <svg xmlns=\"http://www.w3.org/2000/svg\" height=\"24px\"viewBox=\"0 0 24 24\"\n",
              "       width=\"24px\">\n",
              "    <path d=\"M0 0h24v24H0V0z\" fill=\"none\"/>\n",
              "    <path d=\"M18.56 5.44l.94 2.06.94-2.06 2.06-.94-2.06-.94-.94-2.06-.94 2.06-2.06.94zm-11 1L8.5 8.5l.94-2.06 2.06-.94-2.06-.94L8.5 2.5l-.94 2.06-2.06.94zm10 10l.94 2.06.94-2.06 2.06-.94-2.06-.94-.94-2.06-.94 2.06-2.06.94z\"/><path d=\"M17.41 7.96l-1.37-1.37c-.4-.4-.92-.59-1.43-.59-.52 0-1.04.2-1.43.59L10.3 9.45l-7.72 7.72c-.78.78-.78 2.05 0 2.83L4 21.41c.39.39.9.59 1.41.59.51 0 1.02-.2 1.41-.59l7.78-7.78 2.81-2.81c.8-.78.8-2.07 0-2.86zM5.41 20L4 18.59l7.72-7.72 1.47 1.35L5.41 20z\"/>\n",
              "  </svg>\n",
              "      </button>\n",
              "      \n",
              "  <style>\n",
              "    .colab-df-container {\n",
              "      display:flex;\n",
              "      flex-wrap:wrap;\n",
              "      gap: 12px;\n",
              "    }\n",
              "\n",
              "    .colab-df-convert {\n",
              "      background-color: #E8F0FE;\n",
              "      border: none;\n",
              "      border-radius: 50%;\n",
              "      cursor: pointer;\n",
              "      display: none;\n",
              "      fill: #1967D2;\n",
              "      height: 32px;\n",
              "      padding: 0 0 0 0;\n",
              "      width: 32px;\n",
              "    }\n",
              "\n",
              "    .colab-df-convert:hover {\n",
              "      background-color: #E2EBFA;\n",
              "      box-shadow: 0px 1px 2px rgba(60, 64, 67, 0.3), 0px 1px 3px 1px rgba(60, 64, 67, 0.15);\n",
              "      fill: #174EA6;\n",
              "    }\n",
              "\n",
              "    [theme=dark] .colab-df-convert {\n",
              "      background-color: #3B4455;\n",
              "      fill: #D2E3FC;\n",
              "    }\n",
              "\n",
              "    [theme=dark] .colab-df-convert:hover {\n",
              "      background-color: #434B5C;\n",
              "      box-shadow: 0px 1px 3px 1px rgba(0, 0, 0, 0.15);\n",
              "      filter: drop-shadow(0px 1px 2px rgba(0, 0, 0, 0.3));\n",
              "      fill: #FFFFFF;\n",
              "    }\n",
              "  </style>\n",
              "\n",
              "      <script>\n",
              "        const buttonEl =\n",
              "          document.querySelector('#df-7f561352-5e21-4b7e-bec9-b81ce6de7035 button.colab-df-convert');\n",
              "        buttonEl.style.display =\n",
              "          google.colab.kernel.accessAllowed ? 'block' : 'none';\n",
              "\n",
              "        async function convertToInteractive(key) {\n",
              "          const element = document.querySelector('#df-7f561352-5e21-4b7e-bec9-b81ce6de7035');\n",
              "          const dataTable =\n",
              "            await google.colab.kernel.invokeFunction('convertToInteractive',\n",
              "                                                     [key], {});\n",
              "          if (!dataTable) return;\n",
              "\n",
              "          const docLinkHtml = 'Like what you see? Visit the ' +\n",
              "            '<a target=\"_blank\" href=https://colab.research.google.com/notebooks/data_table.ipynb>data table notebook</a>'\n",
              "            + ' to learn more about interactive tables.';\n",
              "          element.innerHTML = '';\n",
              "          dataTable['output_type'] = 'display_data';\n",
              "          await google.colab.output.renderOutput(dataTable, element);\n",
              "          const docLink = document.createElement('div');\n",
              "          docLink.innerHTML = docLinkHtml;\n",
              "          element.appendChild(docLink);\n",
              "        }\n",
              "      </script>\n",
              "    </div>\n",
              "  </div>\n",
              "  "
            ]
          },
          "metadata": {},
          "execution_count": 16
        }
      ],
      "source": [
        "p0=g.get_group(0)\n",
        "p0"
      ]
    },
    {
      "cell_type": "markdown",
      "metadata": {
        "id": "bOWNP96vw07r"
      },
      "source": [
        "##Hypothesis Testing"
      ]
    },
    {
      "cell_type": "markdown",
      "metadata": {
        "id": "XU9ScrJt5A9B"
      },
      "source": [
        "# Chi-square test\n",
        "\n",
        "'PCOS (Y/N)', 'Pregnant (Y/N)', 'Weight gain(Y/N)', 'hair growth(Y/N)', 'Skin darkening (Y/N)', 'Hair loss(Y/N)', 'Pimples(Y/N)', 'Fast food (Y/N)', 'Reg.Exercise(Y/N)'"
      ]
    },
    {
      "cell_type": "code",
      "execution_count": null,
      "metadata": {
        "colab": {
          "base_uri": "https://localhost:8080/",
          "height": 424
        },
        "id": "9T_LAuv_55tK",
        "outputId": "5a792774-64b1-4f38-fc5b-e430d0fae201"
      },
      "outputs": [
        {
          "output_type": "execute_result",
          "data": {
            "text/plain": [
              "   PCOS (Y/N)  Pregnant(Y/N)  Weight gain(Y/N)  hair growth(Y/N)  \\\n",
              "0           0              0                 0                 0   \n",
              "1           0              1                 0                 0   \n",
              "2           1              1                 0                 0   \n",
              "3           0              0                 0                 0   \n",
              "4           0              1                 0                 0   \n",
              "5           0              1                 1                 0   \n",
              "6           0              0                 0                 0   \n",
              "7           0              1                 1                 0   \n",
              "8           0              0                 0                 0   \n",
              "9           0              0                 0                 0   \n",
              "\n",
              "   Skin darkening (Y/N)  Hair loss(Y/N)  Pimples(Y/N)  Fast food (Y/N)  \\\n",
              "0                     0               0             0                1   \n",
              "1                     0               0             0                0   \n",
              "2                     0               1             1                1   \n",
              "3                     0               0             0                0   \n",
              "4                     0               1             0                0   \n",
              "5                     0               1             0                0   \n",
              "6                     0               0             0                0   \n",
              "7                     0               0             0                0   \n",
              "8                     0               0             0                0   \n",
              "9                     0               0             0                0   \n",
              "\n",
              "   Reg.Exercise(Y/N)  \n",
              "0                  0  \n",
              "1                  0  \n",
              "2                  0  \n",
              "3                  0  \n",
              "4                  0  \n",
              "5                  0  \n",
              "6                  0  \n",
              "7                  0  \n",
              "8                  0  \n",
              "9                  0  "
            ],
            "text/html": [
              "\n",
              "  <div id=\"df-2ed10551-bc3b-4de6-9a67-32f813e165eb\">\n",
              "    <div class=\"colab-df-container\">\n",
              "      <div>\n",
              "<style scoped>\n",
              "    .dataframe tbody tr th:only-of-type {\n",
              "        vertical-align: middle;\n",
              "    }\n",
              "\n",
              "    .dataframe tbody tr th {\n",
              "        vertical-align: top;\n",
              "    }\n",
              "\n",
              "    .dataframe thead th {\n",
              "        text-align: right;\n",
              "    }\n",
              "</style>\n",
              "<table border=\"1\" class=\"dataframe\">\n",
              "  <thead>\n",
              "    <tr style=\"text-align: right;\">\n",
              "      <th></th>\n",
              "      <th>PCOS (Y/N)</th>\n",
              "      <th>Pregnant(Y/N)</th>\n",
              "      <th>Weight gain(Y/N)</th>\n",
              "      <th>hair growth(Y/N)</th>\n",
              "      <th>Skin darkening (Y/N)</th>\n",
              "      <th>Hair loss(Y/N)</th>\n",
              "      <th>Pimples(Y/N)</th>\n",
              "      <th>Fast food (Y/N)</th>\n",
              "      <th>Reg.Exercise(Y/N)</th>\n",
              "    </tr>\n",
              "  </thead>\n",
              "  <tbody>\n",
              "    <tr>\n",
              "      <th>0</th>\n",
              "      <td>0</td>\n",
              "      <td>0</td>\n",
              "      <td>0</td>\n",
              "      <td>0</td>\n",
              "      <td>0</td>\n",
              "      <td>0</td>\n",
              "      <td>0</td>\n",
              "      <td>1</td>\n",
              "      <td>0</td>\n",
              "    </tr>\n",
              "    <tr>\n",
              "      <th>1</th>\n",
              "      <td>0</td>\n",
              "      <td>1</td>\n",
              "      <td>0</td>\n",
              "      <td>0</td>\n",
              "      <td>0</td>\n",
              "      <td>0</td>\n",
              "      <td>0</td>\n",
              "      <td>0</td>\n",
              "      <td>0</td>\n",
              "    </tr>\n",
              "    <tr>\n",
              "      <th>2</th>\n",
              "      <td>1</td>\n",
              "      <td>1</td>\n",
              "      <td>0</td>\n",
              "      <td>0</td>\n",
              "      <td>0</td>\n",
              "      <td>1</td>\n",
              "      <td>1</td>\n",
              "      <td>1</td>\n",
              "      <td>0</td>\n",
              "    </tr>\n",
              "    <tr>\n",
              "      <th>3</th>\n",
              "      <td>0</td>\n",
              "      <td>0</td>\n",
              "      <td>0</td>\n",
              "      <td>0</td>\n",
              "      <td>0</td>\n",
              "      <td>0</td>\n",
              "      <td>0</td>\n",
              "      <td>0</td>\n",
              "      <td>0</td>\n",
              "    </tr>\n",
              "    <tr>\n",
              "      <th>4</th>\n",
              "      <td>0</td>\n",
              "      <td>1</td>\n",
              "      <td>0</td>\n",
              "      <td>0</td>\n",
              "      <td>0</td>\n",
              "      <td>1</td>\n",
              "      <td>0</td>\n",
              "      <td>0</td>\n",
              "      <td>0</td>\n",
              "    </tr>\n",
              "    <tr>\n",
              "      <th>5</th>\n",
              "      <td>0</td>\n",
              "      <td>1</td>\n",
              "      <td>1</td>\n",
              "      <td>0</td>\n",
              "      <td>0</td>\n",
              "      <td>1</td>\n",
              "      <td>0</td>\n",
              "      <td>0</td>\n",
              "      <td>0</td>\n",
              "    </tr>\n",
              "    <tr>\n",
              "      <th>6</th>\n",
              "      <td>0</td>\n",
              "      <td>0</td>\n",
              "      <td>0</td>\n",
              "      <td>0</td>\n",
              "      <td>0</td>\n",
              "      <td>0</td>\n",
              "      <td>0</td>\n",
              "      <td>0</td>\n",
              "      <td>0</td>\n",
              "    </tr>\n",
              "    <tr>\n",
              "      <th>7</th>\n",
              "      <td>0</td>\n",
              "      <td>1</td>\n",
              "      <td>1</td>\n",
              "      <td>0</td>\n",
              "      <td>0</td>\n",
              "      <td>0</td>\n",
              "      <td>0</td>\n",
              "      <td>0</td>\n",
              "      <td>0</td>\n",
              "    </tr>\n",
              "    <tr>\n",
              "      <th>8</th>\n",
              "      <td>0</td>\n",
              "      <td>0</td>\n",
              "      <td>0</td>\n",
              "      <td>0</td>\n",
              "      <td>0</td>\n",
              "      <td>0</td>\n",
              "      <td>0</td>\n",
              "      <td>0</td>\n",
              "      <td>0</td>\n",
              "    </tr>\n",
              "    <tr>\n",
              "      <th>9</th>\n",
              "      <td>0</td>\n",
              "      <td>0</td>\n",
              "      <td>0</td>\n",
              "      <td>0</td>\n",
              "      <td>0</td>\n",
              "      <td>0</td>\n",
              "      <td>0</td>\n",
              "      <td>0</td>\n",
              "      <td>0</td>\n",
              "    </tr>\n",
              "  </tbody>\n",
              "</table>\n",
              "</div>\n",
              "      <button class=\"colab-df-convert\" onclick=\"convertToInteractive('df-2ed10551-bc3b-4de6-9a67-32f813e165eb')\"\n",
              "              title=\"Convert this dataframe to an interactive table.\"\n",
              "              style=\"display:none;\">\n",
              "        \n",
              "  <svg xmlns=\"http://www.w3.org/2000/svg\" height=\"24px\"viewBox=\"0 0 24 24\"\n",
              "       width=\"24px\">\n",
              "    <path d=\"M0 0h24v24H0V0z\" fill=\"none\"/>\n",
              "    <path d=\"M18.56 5.44l.94 2.06.94-2.06 2.06-.94-2.06-.94-.94-2.06-.94 2.06-2.06.94zm-11 1L8.5 8.5l.94-2.06 2.06-.94-2.06-.94L8.5 2.5l-.94 2.06-2.06.94zm10 10l.94 2.06.94-2.06 2.06-.94-2.06-.94-.94-2.06-.94 2.06-2.06.94z\"/><path d=\"M17.41 7.96l-1.37-1.37c-.4-.4-.92-.59-1.43-.59-.52 0-1.04.2-1.43.59L10.3 9.45l-7.72 7.72c-.78.78-.78 2.05 0 2.83L4 21.41c.39.39.9.59 1.41.59.51 0 1.02-.2 1.41-.59l7.78-7.78 2.81-2.81c.8-.78.8-2.07 0-2.86zM5.41 20L4 18.59l7.72-7.72 1.47 1.35L5.41 20z\"/>\n",
              "  </svg>\n",
              "      </button>\n",
              "      \n",
              "  <style>\n",
              "    .colab-df-container {\n",
              "      display:flex;\n",
              "      flex-wrap:wrap;\n",
              "      gap: 12px;\n",
              "    }\n",
              "\n",
              "    .colab-df-convert {\n",
              "      background-color: #E8F0FE;\n",
              "      border: none;\n",
              "      border-radius: 50%;\n",
              "      cursor: pointer;\n",
              "      display: none;\n",
              "      fill: #1967D2;\n",
              "      height: 32px;\n",
              "      padding: 0 0 0 0;\n",
              "      width: 32px;\n",
              "    }\n",
              "\n",
              "    .colab-df-convert:hover {\n",
              "      background-color: #E2EBFA;\n",
              "      box-shadow: 0px 1px 2px rgba(60, 64, 67, 0.3), 0px 1px 3px 1px rgba(60, 64, 67, 0.15);\n",
              "      fill: #174EA6;\n",
              "    }\n",
              "\n",
              "    [theme=dark] .colab-df-convert {\n",
              "      background-color: #3B4455;\n",
              "      fill: #D2E3FC;\n",
              "    }\n",
              "\n",
              "    [theme=dark] .colab-df-convert:hover {\n",
              "      background-color: #434B5C;\n",
              "      box-shadow: 0px 1px 3px 1px rgba(0, 0, 0, 0.15);\n",
              "      filter: drop-shadow(0px 1px 2px rgba(0, 0, 0, 0.3));\n",
              "      fill: #FFFFFF;\n",
              "    }\n",
              "  </style>\n",
              "\n",
              "      <script>\n",
              "        const buttonEl =\n",
              "          document.querySelector('#df-2ed10551-bc3b-4de6-9a67-32f813e165eb button.colab-df-convert');\n",
              "        buttonEl.style.display =\n",
              "          google.colab.kernel.accessAllowed ? 'block' : 'none';\n",
              "\n",
              "        async function convertToInteractive(key) {\n",
              "          const element = document.querySelector('#df-2ed10551-bc3b-4de6-9a67-32f813e165eb');\n",
              "          const dataTable =\n",
              "            await google.colab.kernel.invokeFunction('convertToInteractive',\n",
              "                                                     [key], {});\n",
              "          if (!dataTable) return;\n",
              "\n",
              "          const docLinkHtml = 'Like what you see? Visit the ' +\n",
              "            '<a target=\"_blank\" href=https://colab.research.google.com/notebooks/data_table.ipynb>data table notebook</a>'\n",
              "            + ' to learn more about interactive tables.';\n",
              "          element.innerHTML = '';\n",
              "          dataTable['output_type'] = 'display_data';\n",
              "          await google.colab.output.renderOutput(dataTable, element);\n",
              "          const docLink = document.createElement('div');\n",
              "          docLink.innerHTML = docLinkHtml;\n",
              "          element.appendChild(docLink);\n",
              "        }\n",
              "      </script>\n",
              "    </div>\n",
              "  </div>\n",
              "  "
            ]
          },
          "metadata": {},
          "execution_count": 17
        }
      ],
      "source": [
        "#Columns with categorical values:\n",
        "columns = ['PCOS (Y/N)','Pregnant(Y/N)','Weight gain(Y/N)','hair growth(Y/N)','Skin darkening (Y/N)','Hair loss(Y/N)','Pimples(Y/N)', 'Fast food (Y/N)','Reg.Exercise(Y/N)']\n",
        "selected_df = df[columns]\n",
        "selected_df[:10]"
      ]
    },
    {
      "cell_type": "markdown",
      "metadata": {
        "id": "QMa36Zlb7PXp"
      },
      "source": [
        "Performing Chi-square test"
      ]
    },
    {
      "cell_type": "code",
      "execution_count": null,
      "metadata": {
        "colab": {
          "base_uri": "https://localhost:8080/"
        },
        "id": "_DlWIH8vcgxv",
        "outputId": "0784b09c-88f0-4ce0-fe81-0fc55c5f0815"
      },
      "outputs": [
        {
          "output_type": "stream",
          "name": "stdout",
          "text": [
            "Fast food (Y/N)    0    1\n",
            "PCOS (Y/N)               \n",
            "0                224  140\n",
            "1                 38  139\n"
          ]
        }
      ],
      "source": [
        "#Relatable value\n",
        "dataset_table=pd.crosstab(df['PCOS (Y/N)'],df['Fast food (Y/N)'])\n",
        "print(dataset_table)"
      ]
    },
    {
      "cell_type": "code",
      "execution_count": null,
      "metadata": {
        "colab": {
          "base_uri": "https://localhost:8080/"
        },
        "id": "cPne4MXbc_he",
        "outputId": "e64845a2-b8ee-4dbf-fec6-cfd6d92c876a"
      },
      "outputs": [
        {
          "output_type": "execute_result",
          "data": {
            "text/plain": [
              "array([[224, 140],\n",
              "       [ 38, 139]])"
            ]
          },
          "metadata": {},
          "execution_count": 19
        }
      ],
      "source": [
        "dataset_table.values"
      ]
    },
    {
      "cell_type": "code",
      "execution_count": null,
      "metadata": {
        "colab": {
          "base_uri": "https://localhost:8080/"
        },
        "id": "p-K5D84FdJCo",
        "outputId": "b024f099-b162-4711-bc5c-031aa3ced190"
      },
      "outputs": [
        {
          "output_type": "stream",
          "name": "stdout",
          "text": [
            "Observed Values :-\n",
            " [[224 140]\n",
            " [ 38 139]]\n"
          ]
        }
      ],
      "source": [
        "#Observed Values\n",
        "Observed_Values = dataset_table.values\n",
        "print(\"Observed Values :-\\n\",Observed_Values)"
      ]
    },
    {
      "cell_type": "code",
      "execution_count": null,
      "metadata": {
        "id": "Ygn4E7eTdP0m"
      },
      "outputs": [],
      "source": [
        "val=stats.chi2_contingency(dataset_table)"
      ]
    },
    {
      "cell_type": "code",
      "execution_count": null,
      "metadata": {
        "colab": {
          "base_uri": "https://localhost:8080/"
        },
        "id": "mU3E-0S3da7e",
        "outputId": "b8442e49-d225-4567-946b-add931226db8"
      },
      "outputs": [
        {
          "output_type": "execute_result",
          "data": {
            "text/plain": [
              "(74.96282341212658,\n",
              " 4.796615760588168e-18,\n",
              " 1,\n",
              " array([[176.28096118, 187.71903882],\n",
              "        [ 85.71903882,  91.28096118]]))"
            ]
          },
          "metadata": {},
          "execution_count": 22
        }
      ],
      "source": [
        "val"
      ]
    },
    {
      "cell_type": "code",
      "execution_count": null,
      "metadata": {
        "id": "IEt_kebhdaCc"
      },
      "outputs": [],
      "source": [
        "Expected_Values=val[3]"
      ]
    },
    {
      "cell_type": "code",
      "execution_count": null,
      "metadata": {
        "colab": {
          "base_uri": "https://localhost:8080/"
        },
        "id": "XSGnuecZdZ25",
        "outputId": "91e2abe7-4bfd-4f6e-c94c-8193f5fa82c0"
      },
      "outputs": [
        {
          "output_type": "stream",
          "name": "stdout",
          "text": [
            "Degree of Freedom: 1\n"
          ]
        }
      ],
      "source": [
        "no_of_rows=len(dataset_table.iloc[0:2,0])\n",
        "no_of_columns=len(dataset_table.iloc[0,0:2])\n",
        "ddof=(no_of_rows-1)*(no_of_columns-1)\n",
        "print(\"Degree of Freedom:\",ddof)\n",
        "alpha = 0.05"
      ]
    },
    {
      "cell_type": "code",
      "execution_count": null,
      "metadata": {
        "id": "mQZzXfsLdvRB"
      },
      "outputs": [],
      "source": [
        "from scipy.stats import chi2\n",
        "chi_square=sum([(o-e)**2./e for o,e in zip(Observed_Values,Expected_Values)])\n",
        "chi_square_statistic=chi_square[0]+chi_square[1]"
      ]
    },
    {
      "cell_type": "code",
      "execution_count": null,
      "metadata": {
        "colab": {
          "base_uri": "https://localhost:8080/"
        },
        "id": "_cfQpRuDd4lM",
        "outputId": "d9e3fd50-4d18-402a-d9fc-24c10a34a630"
      },
      "outputs": [
        {
          "output_type": "stream",
          "name": "stdout",
          "text": [
            "chi-square statistic:- 76.55878372944804\n"
          ]
        }
      ],
      "source": [
        "print(\"chi-square statistic:-\",chi_square_statistic)"
      ]
    },
    {
      "cell_type": "code",
      "execution_count": null,
      "metadata": {
        "colab": {
          "base_uri": "https://localhost:8080/"
        },
        "id": "jGx78BZMd8FI",
        "outputId": "caa17f57-b9a9-4fe9-eaab-36a979fb87f9"
      },
      "outputs": [
        {
          "output_type": "stream",
          "name": "stdout",
          "text": [
            "critical_value: 3.841458820694124\n"
          ]
        }
      ],
      "source": [
        "critical_value=chi2.ppf(q=1-alpha,df=ddof)\n",
        "print('critical_value:',critical_value)"
      ]
    },
    {
      "cell_type": "code",
      "execution_count": null,
      "metadata": {
        "colab": {
          "base_uri": "https://localhost:8080/"
        },
        "id": "zdpP8TjReDdS",
        "outputId": "4268d133-cb9e-49f4-ac07-0477ac173b61"
      },
      "outputs": [
        {
          "output_type": "stream",
          "name": "stdout",
          "text": [
            "p-value: 0.0\n",
            "Significance level:  0.05\n",
            "Degree of Freedom:  1\n",
            "p-value: 0.0\n"
          ]
        }
      ],
      "source": [
        "#p-value\n",
        "p_value=1-chi2.cdf(x=chi_square_statistic,df=ddof)\n",
        "print('p-value:',p_value)\n",
        "print('Significance level: ',alpha)\n",
        "print('Degree of Freedom: ',ddof)\n",
        "print('p-value:',p_value)"
      ]
    },
    {
      "cell_type": "code",
      "execution_count": null,
      "metadata": {
        "colab": {
          "base_uri": "https://localhost:8080/"
        },
        "id": "2zu7qn5peNBj",
        "outputId": "0164c099-2032-497a-c1c1-6f3afc1e7f61"
      },
      "outputs": [
        {
          "output_type": "stream",
          "name": "stdout",
          "text": [
            "Reject H0,There is a relationship between 2 categorical variables\n",
            "Reject H0,There is a relationship between 2 categorical variables\n"
          ]
        }
      ],
      "source": [
        "if chi_square_statistic>=critical_value:\n",
        "    print(\"Reject H0,There is a relationship between 2 categorical variables\")\n",
        "else:\n",
        "    print(\"Retain H0,There is no relationship between 2 categorical variables\")\n",
        "\n",
        "if p_value<=alpha:\n",
        "    print(\"Reject H0,There is a relationship between 2 categorical variables\")\n",
        "else:\n",
        "    print(\"Retain H0,There is no relationship between 2 categorical variables\")"
      ]
    },
    {
      "cell_type": "code",
      "execution_count": null,
      "metadata": {
        "colab": {
          "base_uri": "https://localhost:8080/"
        },
        "id": "Dna39s4iqAf5",
        "outputId": "3ccca016-6290-4ca0-9d7b-a8c7a63617ca"
      },
      "outputs": [
        {
          "output_type": "stream",
          "name": "stdout",
          "text": [
            "Pregnant(Y/N)    0    1\n",
            "PCOS (Y/N)             \n",
            "0              222  142\n",
            "1              113   64\n"
          ]
        }
      ],
      "source": [
        "#Not relatable value\n",
        "dataset_table=pd.crosstab(df['PCOS (Y/N)'],df['Pregnant(Y/N)'])\n",
        "print(dataset_table)"
      ]
    },
    {
      "cell_type": "code",
      "execution_count": null,
      "metadata": {
        "colab": {
          "base_uri": "https://localhost:8080/"
        },
        "id": "1dMiVvI4qM4p",
        "outputId": "e26b176b-2ca9-4283-be37-5023524c6744"
      },
      "outputs": [
        {
          "output_type": "execute_result",
          "data": {
            "text/plain": [
              "array([[222, 142],\n",
              "       [113,  64]])"
            ]
          },
          "metadata": {},
          "execution_count": 31
        }
      ],
      "source": [
        "dataset_table.values"
      ]
    },
    {
      "cell_type": "code",
      "execution_count": null,
      "metadata": {
        "colab": {
          "base_uri": "https://localhost:8080/"
        },
        "id": "_ASNDa3uqTjN",
        "outputId": "daf20386-04e6-4845-cae6-dbc530418c73"
      },
      "outputs": [
        {
          "output_type": "stream",
          "name": "stdout",
          "text": [
            "Observed Values :-\n",
            " [[222 142]\n",
            " [113  64]]\n"
          ]
        }
      ],
      "source": [
        "#Observed Values\n",
        "Observed_Values= dataset_table.values\n",
        "print(\"Observed Values :-\\n\",Observed_Values)"
      ]
    },
    {
      "cell_type": "code",
      "execution_count": null,
      "metadata": {
        "id": "efPpr-fFqeX5"
      },
      "outputs": [],
      "source": [
        "val=stats.chi2_contingency(dataset_table)"
      ]
    },
    {
      "cell_type": "code",
      "execution_count": null,
      "metadata": {
        "colab": {
          "base_uri": "https://localhost:8080/"
        },
        "id": "SSep_1SAqpMb",
        "outputId": "131e9e3d-ad84-40cc-9ad5-be32f34a913f"
      },
      "outputs": [
        {
          "output_type": "execute_result",
          "data": {
            "text/plain": [
              "(0.2989686750004424, 0.5845296923733834, 1, array([[225.3974122, 138.6025878],\n",
              "        [109.6025878,  67.3974122]]))"
            ]
          },
          "metadata": {},
          "execution_count": 34
        }
      ],
      "source": [
        "val"
      ]
    },
    {
      "cell_type": "code",
      "execution_count": null,
      "metadata": {
        "id": "nsKSeRCxqtE7"
      },
      "outputs": [],
      "source": [
        "Expected_Values=val[3]"
      ]
    },
    {
      "cell_type": "code",
      "execution_count": null,
      "metadata": {
        "colab": {
          "base_uri": "https://localhost:8080/"
        },
        "id": "UspEx5R0qya4",
        "outputId": "b85fe09b-237f-4653-9c54-cba8ef47bb3a"
      },
      "outputs": [
        {
          "output_type": "stream",
          "name": "stdout",
          "text": [
            "Degree of Freedom: 1\n"
          ]
        }
      ],
      "source": [
        "no_of_rows=len(dataset_table.iloc[0:2,0])\n",
        "no_of_columns=len(dataset_table.iloc[0,0:2])\n",
        "ddof1=(no_of_rows-1)*(no_of_columns-1)\n",
        "print(\"Degree of Freedom:\",ddof)\n",
        "alpha = 0.05"
      ]
    },
    {
      "cell_type": "code",
      "execution_count": null,
      "metadata": {
        "id": "EBPx-4bsrF7l"
      },
      "outputs": [],
      "source": [
        "from scipy.stats import chi2\n",
        "chi_square=sum([(o-e)**2./e for o,e in zip(Observed_Values,Expected_Values)])\n",
        "chi_square_statistic=chi_square[0]+chi_square[1]"
      ]
    },
    {
      "cell_type": "code",
      "execution_count": null,
      "metadata": {
        "colab": {
          "base_uri": "https://localhost:8080/"
        },
        "id": "Hz_zpYUxraRD",
        "outputId": "a50280f1-8e1d-4130-dff4-09f848f7e1b4"
      },
      "outputs": [
        {
          "output_type": "stream",
          "name": "stdout",
          "text": [
            "chi-square statistic:- 0.41105657736089474\n"
          ]
        }
      ],
      "source": [
        "print(\"chi-square statistic:-\",chi_square_statistic)"
      ]
    },
    {
      "cell_type": "code",
      "execution_count": null,
      "metadata": {
        "colab": {
          "base_uri": "https://localhost:8080/"
        },
        "id": "XAn-hXg1rg0p",
        "outputId": "6436aef4-4b51-43a2-9971-b0415992692e"
      },
      "outputs": [
        {
          "output_type": "stream",
          "name": "stdout",
          "text": [
            "critical_value: 3.841458820694124\n"
          ]
        }
      ],
      "source": [
        "critical_value=chi2.ppf(q=1-alpha,df=ddof)\n",
        "print('critical_value:',critical_value)"
      ]
    },
    {
      "cell_type": "code",
      "execution_count": null,
      "metadata": {
        "colab": {
          "base_uri": "https://localhost:8080/"
        },
        "id": "b-1gktFCro68",
        "outputId": "3619a218-4802-4024-f04d-a3bc7f7eb390"
      },
      "outputs": [
        {
          "output_type": "stream",
          "name": "stdout",
          "text": [
            "p-value: 0.5214337150433788\n",
            "Significance level:  0.05\n",
            "Degree of Freedom:  1\n",
            "p-value: 0.5214337150433788\n"
          ]
        }
      ],
      "source": [
        "#p-value\n",
        "p_value=1-chi2.cdf(x=chi_square_statistic,df=ddof)\n",
        "print('p-value:',p_value)\n",
        "print('Significance level: ',alpha)\n",
        "print('Degree of Freedom: ',ddof)\n",
        "print('p-value:',p_value)"
      ]
    },
    {
      "cell_type": "code",
      "execution_count": null,
      "metadata": {
        "colab": {
          "base_uri": "https://localhost:8080/"
        },
        "id": "RAhp7DLgrs6y",
        "outputId": "6cdbdbbe-64a6-4680-a9c8-99623dce7e8c"
      },
      "outputs": [
        {
          "output_type": "stream",
          "name": "stdout",
          "text": [
            "Retain H0,There is no relationship between 2 categorical variables\n",
            "Retain H0,There is no relationship between 2 categorical variables\n"
          ]
        }
      ],
      "source": [
        "if chi_square_statistic>=critical_value:\n",
        "    print(\"Reject H0,There is a relationship between 2 categorical variables\")\n",
        "else:\n",
        "    print(\"Retain H0,There is no relationship between 2 categorical variables\")\n",
        "\n",
        "if p_value<=alpha:\n",
        "    print(\"Reject H0,There is a relationship between 2 categorical variables\")\n",
        "else:\n",
        "    print(\"Retain H0,There is no relationship between 2 categorical variables\")"
      ]
    },
    {
      "cell_type": "code",
      "execution_count": null,
      "metadata": {
        "colab": {
          "base_uri": "https://localhost:8080/",
          "height": 289
        },
        "id": "wBqAyoqC-mBp",
        "outputId": "64b6df47-77b8-45b7-9f4a-7b707882b375"
      },
      "outputs": [
        {
          "output_type": "execute_result",
          "data": {
            "text/plain": [
              "                Sl. No  Patient File No.   Age (yrs)  Weight (Kg)  \\\n",
              "PCOS (Y/N)                                                          \n",
              "0           264.357143        264.357143   32.065934    57.939560   \n",
              "1           284.661017        284.661017   30.124294    62.920904   \n",
              "\n",
              "            Height(Cm)         BMI  Blood Group  Pulse rate(bpm)   \\\n",
              "PCOS (Y/N)                                                          \n",
              "0            156.156593  23.747397    13.755495         72.964286   \n",
              "1            157.045198  25.470919    13.898305         73.830508   \n",
              "\n",
              "            RR (breaths/min)   Hb(g/dl)  ...  Pimples(Y/N)  Fast food (Y/N)  \\\n",
              "PCOS (Y/N)                               ...                                  \n",
              "0                  19.200549  11.107390  ...      0.390110         0.384615   \n",
              "1                  19.333333  11.268305  ...      0.694915         0.785311   \n",
              "\n",
              "            Reg.Exercise(Y/N)  BP _Systolic (mmHg)  BP _Diastolic (mmHg)  \\\n",
              "PCOS (Y/N)                                                                 \n",
              "0                    0.228022           114.620879             76.780220   \n",
              "1                    0.288136           114.745763             77.231638   \n",
              "\n",
              "            Follicle No. (L)  Follicle No. (R)  Avg. F size (L) (mm)  \\\n",
              "PCOS (Y/N)                                                             \n",
              "0                   4.351648          4.637363             14.667582   \n",
              "1                   9.785311         10.762712             15.689266   \n",
              "\n",
              "            Avg. F size (R) (mm)  Endometrium (mm)  \n",
              "PCOS (Y/N)                                          \n",
              "0                      15.214286          8.315027  \n",
              "1                      15.903955          8.806780  \n",
              "\n",
              "[2 rows x 43 columns]"
            ],
            "text/html": [
              "\n",
              "  <div id=\"df-6be09046-dc80-4f60-a401-b859eb45d920\">\n",
              "    <div class=\"colab-df-container\">\n",
              "      <div>\n",
              "<style scoped>\n",
              "    .dataframe tbody tr th:only-of-type {\n",
              "        vertical-align: middle;\n",
              "    }\n",
              "\n",
              "    .dataframe tbody tr th {\n",
              "        vertical-align: top;\n",
              "    }\n",
              "\n",
              "    .dataframe thead th {\n",
              "        text-align: right;\n",
              "    }\n",
              "</style>\n",
              "<table border=\"1\" class=\"dataframe\">\n",
              "  <thead>\n",
              "    <tr style=\"text-align: right;\">\n",
              "      <th></th>\n",
              "      <th>Sl. No</th>\n",
              "      <th>Patient File No.</th>\n",
              "      <th>Age (yrs)</th>\n",
              "      <th>Weight (Kg)</th>\n",
              "      <th>Height(Cm)</th>\n",
              "      <th>BMI</th>\n",
              "      <th>Blood Group</th>\n",
              "      <th>Pulse rate(bpm)</th>\n",
              "      <th>RR (breaths/min)</th>\n",
              "      <th>Hb(g/dl)</th>\n",
              "      <th>...</th>\n",
              "      <th>Pimples(Y/N)</th>\n",
              "      <th>Fast food (Y/N)</th>\n",
              "      <th>Reg.Exercise(Y/N)</th>\n",
              "      <th>BP _Systolic (mmHg)</th>\n",
              "      <th>BP _Diastolic (mmHg)</th>\n",
              "      <th>Follicle No. (L)</th>\n",
              "      <th>Follicle No. (R)</th>\n",
              "      <th>Avg. F size (L) (mm)</th>\n",
              "      <th>Avg. F size (R) (mm)</th>\n",
              "      <th>Endometrium (mm)</th>\n",
              "    </tr>\n",
              "    <tr>\n",
              "      <th>PCOS (Y/N)</th>\n",
              "      <th></th>\n",
              "      <th></th>\n",
              "      <th></th>\n",
              "      <th></th>\n",
              "      <th></th>\n",
              "      <th></th>\n",
              "      <th></th>\n",
              "      <th></th>\n",
              "      <th></th>\n",
              "      <th></th>\n",
              "      <th></th>\n",
              "      <th></th>\n",
              "      <th></th>\n",
              "      <th></th>\n",
              "      <th></th>\n",
              "      <th></th>\n",
              "      <th></th>\n",
              "      <th></th>\n",
              "      <th></th>\n",
              "      <th></th>\n",
              "      <th></th>\n",
              "    </tr>\n",
              "  </thead>\n",
              "  <tbody>\n",
              "    <tr>\n",
              "      <th>0</th>\n",
              "      <td>264.357143</td>\n",
              "      <td>264.357143</td>\n",
              "      <td>32.065934</td>\n",
              "      <td>57.939560</td>\n",
              "      <td>156.156593</td>\n",
              "      <td>23.747397</td>\n",
              "      <td>13.755495</td>\n",
              "      <td>72.964286</td>\n",
              "      <td>19.200549</td>\n",
              "      <td>11.107390</td>\n",
              "      <td>...</td>\n",
              "      <td>0.390110</td>\n",
              "      <td>0.384615</td>\n",
              "      <td>0.228022</td>\n",
              "      <td>114.620879</td>\n",
              "      <td>76.780220</td>\n",
              "      <td>4.351648</td>\n",
              "      <td>4.637363</td>\n",
              "      <td>14.667582</td>\n",
              "      <td>15.214286</td>\n",
              "      <td>8.315027</td>\n",
              "    </tr>\n",
              "    <tr>\n",
              "      <th>1</th>\n",
              "      <td>284.661017</td>\n",
              "      <td>284.661017</td>\n",
              "      <td>30.124294</td>\n",
              "      <td>62.920904</td>\n",
              "      <td>157.045198</td>\n",
              "      <td>25.470919</td>\n",
              "      <td>13.898305</td>\n",
              "      <td>73.830508</td>\n",
              "      <td>19.333333</td>\n",
              "      <td>11.268305</td>\n",
              "      <td>...</td>\n",
              "      <td>0.694915</td>\n",
              "      <td>0.785311</td>\n",
              "      <td>0.288136</td>\n",
              "      <td>114.745763</td>\n",
              "      <td>77.231638</td>\n",
              "      <td>9.785311</td>\n",
              "      <td>10.762712</td>\n",
              "      <td>15.689266</td>\n",
              "      <td>15.903955</td>\n",
              "      <td>8.806780</td>\n",
              "    </tr>\n",
              "  </tbody>\n",
              "</table>\n",
              "<p>2 rows × 43 columns</p>\n",
              "</div>\n",
              "      <button class=\"colab-df-convert\" onclick=\"convertToInteractive('df-6be09046-dc80-4f60-a401-b859eb45d920')\"\n",
              "              title=\"Convert this dataframe to an interactive table.\"\n",
              "              style=\"display:none;\">\n",
              "        \n",
              "  <svg xmlns=\"http://www.w3.org/2000/svg\" height=\"24px\"viewBox=\"0 0 24 24\"\n",
              "       width=\"24px\">\n",
              "    <path d=\"M0 0h24v24H0V0z\" fill=\"none\"/>\n",
              "    <path d=\"M18.56 5.44l.94 2.06.94-2.06 2.06-.94-2.06-.94-.94-2.06-.94 2.06-2.06.94zm-11 1L8.5 8.5l.94-2.06 2.06-.94-2.06-.94L8.5 2.5l-.94 2.06-2.06.94zm10 10l.94 2.06.94-2.06 2.06-.94-2.06-.94-.94-2.06-.94 2.06-2.06.94z\"/><path d=\"M17.41 7.96l-1.37-1.37c-.4-.4-.92-.59-1.43-.59-.52 0-1.04.2-1.43.59L10.3 9.45l-7.72 7.72c-.78.78-.78 2.05 0 2.83L4 21.41c.39.39.9.59 1.41.59.51 0 1.02-.2 1.41-.59l7.78-7.78 2.81-2.81c.8-.78.8-2.07 0-2.86zM5.41 20L4 18.59l7.72-7.72 1.47 1.35L5.41 20z\"/>\n",
              "  </svg>\n",
              "      </button>\n",
              "      \n",
              "  <style>\n",
              "    .colab-df-container {\n",
              "      display:flex;\n",
              "      flex-wrap:wrap;\n",
              "      gap: 12px;\n",
              "    }\n",
              "\n",
              "    .colab-df-convert {\n",
              "      background-color: #E8F0FE;\n",
              "      border: none;\n",
              "      border-radius: 50%;\n",
              "      cursor: pointer;\n",
              "      display: none;\n",
              "      fill: #1967D2;\n",
              "      height: 32px;\n",
              "      padding: 0 0 0 0;\n",
              "      width: 32px;\n",
              "    }\n",
              "\n",
              "    .colab-df-convert:hover {\n",
              "      background-color: #E2EBFA;\n",
              "      box-shadow: 0px 1px 2px rgba(60, 64, 67, 0.3), 0px 1px 3px 1px rgba(60, 64, 67, 0.15);\n",
              "      fill: #174EA6;\n",
              "    }\n",
              "\n",
              "    [theme=dark] .colab-df-convert {\n",
              "      background-color: #3B4455;\n",
              "      fill: #D2E3FC;\n",
              "    }\n",
              "\n",
              "    [theme=dark] .colab-df-convert:hover {\n",
              "      background-color: #434B5C;\n",
              "      box-shadow: 0px 1px 3px 1px rgba(0, 0, 0, 0.15);\n",
              "      filter: drop-shadow(0px 1px 2px rgba(0, 0, 0, 0.3));\n",
              "      fill: #FFFFFF;\n",
              "    }\n",
              "  </style>\n",
              "\n",
              "      <script>\n",
              "        const buttonEl =\n",
              "          document.querySelector('#df-6be09046-dc80-4f60-a401-b859eb45d920 button.colab-df-convert');\n",
              "        buttonEl.style.display =\n",
              "          google.colab.kernel.accessAllowed ? 'block' : 'none';\n",
              "\n",
              "        async function convertToInteractive(key) {\n",
              "          const element = document.querySelector('#df-6be09046-dc80-4f60-a401-b859eb45d920');\n",
              "          const dataTable =\n",
              "            await google.colab.kernel.invokeFunction('convertToInteractive',\n",
              "                                                     [key], {});\n",
              "          if (!dataTable) return;\n",
              "\n",
              "          const docLinkHtml = 'Like what you see? Visit the ' +\n",
              "            '<a target=\"_blank\" href=https://colab.research.google.com/notebooks/data_table.ipynb>data table notebook</a>'\n",
              "            + ' to learn more about interactive tables.';\n",
              "          element.innerHTML = '';\n",
              "          dataTable['output_type'] = 'display_data';\n",
              "          await google.colab.output.renderOutput(dataTable, element);\n",
              "          const docLink = document.createElement('div');\n",
              "          docLink.innerHTML = docLinkHtml;\n",
              "          element.appendChild(docLink);\n",
              "        }\n",
              "      </script>\n",
              "    </div>\n",
              "  </div>\n",
              "  "
            ]
          },
          "metadata": {},
          "execution_count": 42
        }
      ],
      "source": [
        "# grouping the data based on the target variable\n",
        "df.groupby('PCOS (Y/N)').mean()"
      ]
    },
    {
      "cell_type": "code",
      "execution_count": null,
      "metadata": {
        "id": "3lhgMud63z-V"
      },
      "outputs": [],
      "source": [
        "#splitting\n",
        "X=df.drop([\"PCOS (Y/N)\",\"Sl. No\",\"Patient File No.\",\"Unnamed: 44\"],axis = 1)\n",
        "Y=df[\"PCOS (Y/N)\"]"
      ]
    },
    {
      "cell_type": "code",
      "execution_count": null,
      "metadata": {
        "colab": {
          "base_uri": "https://localhost:8080/"
        },
        "id": "qLNtzSpt-8XG",
        "outputId": "2748fd65-cb73-4f8f-fe30-7c9f193f2114"
      },
      "outputs": [
        {
          "output_type": "stream",
          "name": "stdout",
          "text": [
            "      Age (yrs)  Weight (Kg)  Height(Cm)         BMI  Blood Group  \\\n",
            "0            28           44          152  19.300000           15   \n",
            "1            36           65          161  24.921163           15   \n",
            "2            33           68          165  25.270891           11   \n",
            "3            37           65          148  29.674945           13   \n",
            "4            25           52          161  20.060954           11   \n",
            "..          ...          ...          ...        ...          ...   \n",
            "536          35           50          164  18.500000           17   \n",
            "537          30           63          158  25.300000           15   \n",
            "538          36           54          152  23.400000           13   \n",
            "539          27           50          150  22.200000           15   \n",
            "540          23           82          165  30.100000           13   \n",
            "\n",
            "     Pulse rate(bpm)   RR (breaths/min)  Hb(g/dl)  Cycle(R/I)  \\\n",
            "0                  78                22     10.48           2   \n",
            "1                  74                20     11.70           2   \n",
            "2                  72                18     11.80           2   \n",
            "3                  72                20     12.00           2   \n",
            "4                  72                18     10.00           2   \n",
            "..                ...               ...       ...         ...   \n",
            "536                72                16     11.00           2   \n",
            "537                72                18     10.80           2   \n",
            "538                74                20     10.80           2   \n",
            "539                74                20     12.00           4   \n",
            "540                80                20     10.20           4   \n",
            "\n",
            "     Cycle length(days)  ...  Pimples(Y/N)  Fast food (Y/N)  \\\n",
            "0                     5  ...             0                1   \n",
            "1                     5  ...             0                0   \n",
            "2                     5  ...             1                1   \n",
            "3                     5  ...             0                0   \n",
            "4                     5  ...             0                0   \n",
            "..                  ...  ...           ...              ...   \n",
            "536                   5  ...             0                0   \n",
            "537                   5  ...             0                0   \n",
            "538                   6  ...             0                0   \n",
            "539                   2  ...             1                0   \n",
            "540                   7  ...             1                1   \n",
            "\n",
            "     Reg.Exercise(Y/N)  BP _Systolic (mmHg)  BP _Diastolic (mmHg)  \\\n",
            "0                    0                  110                    80   \n",
            "1                    0                  120                    70   \n",
            "2                    0                  120                    80   \n",
            "3                    0                  120                    70   \n",
            "4                    0                  120                    80   \n",
            "..                 ...                  ...                   ...   \n",
            "536                  0                  110                    70   \n",
            "537                  0                  110                    70   \n",
            "538                  0                  110                    80   \n",
            "539                  0                  110                    70   \n",
            "540                  0                  120                    70   \n",
            "\n",
            "     Follicle No. (L)  Follicle No. (R)  Avg. F size (L) (mm)  \\\n",
            "0                   3                 3                    18   \n",
            "1                   3                 5                    15   \n",
            "2                  13                15                    18   \n",
            "3                   2                 2                    15   \n",
            "4                   3                 4                    16   \n",
            "..                ...               ...                   ...   \n",
            "536                 1                 0                    17   \n",
            "537                 9                 7                    19   \n",
            "538                 1                 0                    18   \n",
            "539                 7                 6                    18   \n",
            "540                 9                10                    19   \n",
            "\n",
            "     Avg. F size (R) (mm)  Endometrium (mm)  \n",
            "0                      18               8.5  \n",
            "1                      14               3.7  \n",
            "2                      20              10.0  \n",
            "3                      14               7.5  \n",
            "4                      14               7.0  \n",
            "..                    ...               ...  \n",
            "536                    10               6.7  \n",
            "537                    18               8.2  \n",
            "538                     9               7.3  \n",
            "539                    16              11.5  \n",
            "540                    18               6.9  \n",
            "\n",
            "[541 rows x 41 columns]\n",
            "0      0\n",
            "1      0\n",
            "2      1\n",
            "3      0\n",
            "4      0\n",
            "      ..\n",
            "536    0\n",
            "537    0\n",
            "538    0\n",
            "539    0\n",
            "540    1\n",
            "Name: PCOS (Y/N), Length: 541, dtype: int64\n"
          ]
        },
        {
          "output_type": "execute_result",
          "data": {
            "text/plain": [
              "(None, None)"
            ]
          },
          "metadata": {},
          "execution_count": 44
        }
      ],
      "source": [
        "print (X), print (Y)"
      ]
    },
    {
      "cell_type": "markdown",
      "metadata": {
        "id": "Y0fqnoS44tnd"
      },
      "source": [
        "# Univariate Selection"
      ]
    },
    {
      "cell_type": "code",
      "execution_count": null,
      "metadata": {
        "id": "tUOjHd6t41Va"
      },
      "outputs": [],
      "source": [
        "from sklearn.feature_selection import SelectKBest\n",
        "from sklearn.feature_selection import chi2"
      ]
    },
    {
      "cell_type": "code",
      "execution_count": null,
      "metadata": {
        "id": "Ub5hd-uf5blG"
      },
      "outputs": [],
      "source": [
        "### Apply SelectKBest Algorithm\n",
        "ordered_rank_features=SelectKBest(score_func=chi2,k=41)\n",
        "ordered_feature=ordered_rank_features.fit(X,Y)"
      ]
    },
    {
      "cell_type": "code",
      "execution_count": null,
      "metadata": {
        "id": "bkAxWmuN5bXQ"
      },
      "outputs": [],
      "source": [
        "dfscores=pd.DataFrame(ordered_feature.scores_,columns=[\"Score\"])\n",
        "dfcolumns=pd.DataFrame(X.columns)"
      ]
    },
    {
      "cell_type": "code",
      "execution_count": null,
      "metadata": {
        "id": "GCoYFYdO5bLG"
      },
      "outputs": [],
      "source": [
        "features_rank=pd.concat([dfcolumns,dfscores],axis=1)"
      ]
    },
    {
      "cell_type": "code",
      "execution_count": null,
      "metadata": {
        "colab": {
          "base_uri": "https://localhost:8080/",
          "height": 1000
        },
        "id": "A2mCkEmQ5lHr",
        "outputId": "f2f74fdb-f27f-4467-9788-f91baeddf289"
      },
      "outputs": [
        {
          "output_type": "execute_result",
          "data": {
            "text/plain": [
              "                  Features        Score\n",
              "0                Age (yrs)    14.284370\n",
              "1              Weight (Kg)    49.607547\n",
              "2              Height(Cm)      0.601071\n",
              "3                      BMI    14.551345\n",
              "4              Blood Group     0.175974\n",
              "5         Pulse rate(bpm)      1.219952\n",
              "6         RR (breaths/min)     0.109112\n",
              "7                 Hb(g/dl)     0.276315\n",
              "8               Cycle(R/I)    27.681419\n",
              "9       Cycle length(days)     7.750342\n",
              "10   Marraige Status (Yrs)    22.085668\n",
              "11           Pregnant(Y/N)     0.254536\n",
              "12       No. of aborptions     2.934677\n",
              "13    I   beta-HCG(mIU/mL)  6950.525631\n",
              "14  II    beta-HCG(mIU/mL)   949.362075\n",
              "15             FSH(mIU/mL)  1601.145511\n",
              "16              LH(mIU/mL)  2558.471157\n",
              "17                  FSH/LH    96.852985\n",
              "18               Hip(inch)     5.894434\n",
              "19             Waist(inch)     5.593108\n",
              "20         Waist:Hip Ratio     0.000199\n",
              "21             TSH (mIU/L)     0.262652\n",
              "22              AMH(ng/mL)   232.747856\n",
              "23              PRL(ng/mL)     0.131618\n",
              "24          Vit D3 (ng/mL)  9477.648952\n",
              "25              PRG(ng/mL)    24.638020\n",
              "26              RBS(mg/dl)     4.453895\n",
              "27        Weight gain(Y/N)    65.554147\n",
              "28        hair growth(Y/N)    84.854623\n",
              "29    Skin darkening (Y/N)    84.870716\n",
              "30          Hair loss(Y/N)     8.846546\n",
              "31            Pimples(Y/N)    22.587803\n",
              "32         Fast food (Y/N)    37.076527\n",
              "33       Reg.Exercise(Y/N)     1.737463\n",
              "34     BP _Systolic (mmHg)     0.016198\n",
              "35    BP _Diastolic (mmHg)     0.315466\n",
              "36        Follicle No. (L)   573.647927\n",
              "37        Follicle No. (R)   672.789402\n",
              "38    Avg. F size (L) (mm)     8.286384\n",
              "39    Avg. F size (R) (mm)     3.668713\n",
              "40        Endometrium (mm)     3.397687"
            ],
            "text/html": [
              "\n",
              "  <div id=\"df-49ac34c8-c22f-4608-b97d-6653d8af1794\">\n",
              "    <div class=\"colab-df-container\">\n",
              "      <div>\n",
              "<style scoped>\n",
              "    .dataframe tbody tr th:only-of-type {\n",
              "        vertical-align: middle;\n",
              "    }\n",
              "\n",
              "    .dataframe tbody tr th {\n",
              "        vertical-align: top;\n",
              "    }\n",
              "\n",
              "    .dataframe thead th {\n",
              "        text-align: right;\n",
              "    }\n",
              "</style>\n",
              "<table border=\"1\" class=\"dataframe\">\n",
              "  <thead>\n",
              "    <tr style=\"text-align: right;\">\n",
              "      <th></th>\n",
              "      <th>Features</th>\n",
              "      <th>Score</th>\n",
              "    </tr>\n",
              "  </thead>\n",
              "  <tbody>\n",
              "    <tr>\n",
              "      <th>0</th>\n",
              "      <td>Age (yrs)</td>\n",
              "      <td>14.284370</td>\n",
              "    </tr>\n",
              "    <tr>\n",
              "      <th>1</th>\n",
              "      <td>Weight (Kg)</td>\n",
              "      <td>49.607547</td>\n",
              "    </tr>\n",
              "    <tr>\n",
              "      <th>2</th>\n",
              "      <td>Height(Cm)</td>\n",
              "      <td>0.601071</td>\n",
              "    </tr>\n",
              "    <tr>\n",
              "      <th>3</th>\n",
              "      <td>BMI</td>\n",
              "      <td>14.551345</td>\n",
              "    </tr>\n",
              "    <tr>\n",
              "      <th>4</th>\n",
              "      <td>Blood Group</td>\n",
              "      <td>0.175974</td>\n",
              "    </tr>\n",
              "    <tr>\n",
              "      <th>5</th>\n",
              "      <td>Pulse rate(bpm)</td>\n",
              "      <td>1.219952</td>\n",
              "    </tr>\n",
              "    <tr>\n",
              "      <th>6</th>\n",
              "      <td>RR (breaths/min)</td>\n",
              "      <td>0.109112</td>\n",
              "    </tr>\n",
              "    <tr>\n",
              "      <th>7</th>\n",
              "      <td>Hb(g/dl)</td>\n",
              "      <td>0.276315</td>\n",
              "    </tr>\n",
              "    <tr>\n",
              "      <th>8</th>\n",
              "      <td>Cycle(R/I)</td>\n",
              "      <td>27.681419</td>\n",
              "    </tr>\n",
              "    <tr>\n",
              "      <th>9</th>\n",
              "      <td>Cycle length(days)</td>\n",
              "      <td>7.750342</td>\n",
              "    </tr>\n",
              "    <tr>\n",
              "      <th>10</th>\n",
              "      <td>Marraige Status (Yrs)</td>\n",
              "      <td>22.085668</td>\n",
              "    </tr>\n",
              "    <tr>\n",
              "      <th>11</th>\n",
              "      <td>Pregnant(Y/N)</td>\n",
              "      <td>0.254536</td>\n",
              "    </tr>\n",
              "    <tr>\n",
              "      <th>12</th>\n",
              "      <td>No. of aborptions</td>\n",
              "      <td>2.934677</td>\n",
              "    </tr>\n",
              "    <tr>\n",
              "      <th>13</th>\n",
              "      <td>I   beta-HCG(mIU/mL)</td>\n",
              "      <td>6950.525631</td>\n",
              "    </tr>\n",
              "    <tr>\n",
              "      <th>14</th>\n",
              "      <td>II    beta-HCG(mIU/mL)</td>\n",
              "      <td>949.362075</td>\n",
              "    </tr>\n",
              "    <tr>\n",
              "      <th>15</th>\n",
              "      <td>FSH(mIU/mL)</td>\n",
              "      <td>1601.145511</td>\n",
              "    </tr>\n",
              "    <tr>\n",
              "      <th>16</th>\n",
              "      <td>LH(mIU/mL)</td>\n",
              "      <td>2558.471157</td>\n",
              "    </tr>\n",
              "    <tr>\n",
              "      <th>17</th>\n",
              "      <td>FSH/LH</td>\n",
              "      <td>96.852985</td>\n",
              "    </tr>\n",
              "    <tr>\n",
              "      <th>18</th>\n",
              "      <td>Hip(inch)</td>\n",
              "      <td>5.894434</td>\n",
              "    </tr>\n",
              "    <tr>\n",
              "      <th>19</th>\n",
              "      <td>Waist(inch)</td>\n",
              "      <td>5.593108</td>\n",
              "    </tr>\n",
              "    <tr>\n",
              "      <th>20</th>\n",
              "      <td>Waist:Hip Ratio</td>\n",
              "      <td>0.000199</td>\n",
              "    </tr>\n",
              "    <tr>\n",
              "      <th>21</th>\n",
              "      <td>TSH (mIU/L)</td>\n",
              "      <td>0.262652</td>\n",
              "    </tr>\n",
              "    <tr>\n",
              "      <th>22</th>\n",
              "      <td>AMH(ng/mL)</td>\n",
              "      <td>232.747856</td>\n",
              "    </tr>\n",
              "    <tr>\n",
              "      <th>23</th>\n",
              "      <td>PRL(ng/mL)</td>\n",
              "      <td>0.131618</td>\n",
              "    </tr>\n",
              "    <tr>\n",
              "      <th>24</th>\n",
              "      <td>Vit D3 (ng/mL)</td>\n",
              "      <td>9477.648952</td>\n",
              "    </tr>\n",
              "    <tr>\n",
              "      <th>25</th>\n",
              "      <td>PRG(ng/mL)</td>\n",
              "      <td>24.638020</td>\n",
              "    </tr>\n",
              "    <tr>\n",
              "      <th>26</th>\n",
              "      <td>RBS(mg/dl)</td>\n",
              "      <td>4.453895</td>\n",
              "    </tr>\n",
              "    <tr>\n",
              "      <th>27</th>\n",
              "      <td>Weight gain(Y/N)</td>\n",
              "      <td>65.554147</td>\n",
              "    </tr>\n",
              "    <tr>\n",
              "      <th>28</th>\n",
              "      <td>hair growth(Y/N)</td>\n",
              "      <td>84.854623</td>\n",
              "    </tr>\n",
              "    <tr>\n",
              "      <th>29</th>\n",
              "      <td>Skin darkening (Y/N)</td>\n",
              "      <td>84.870716</td>\n",
              "    </tr>\n",
              "    <tr>\n",
              "      <th>30</th>\n",
              "      <td>Hair loss(Y/N)</td>\n",
              "      <td>8.846546</td>\n",
              "    </tr>\n",
              "    <tr>\n",
              "      <th>31</th>\n",
              "      <td>Pimples(Y/N)</td>\n",
              "      <td>22.587803</td>\n",
              "    </tr>\n",
              "    <tr>\n",
              "      <th>32</th>\n",
              "      <td>Fast food (Y/N)</td>\n",
              "      <td>37.076527</td>\n",
              "    </tr>\n",
              "    <tr>\n",
              "      <th>33</th>\n",
              "      <td>Reg.Exercise(Y/N)</td>\n",
              "      <td>1.737463</td>\n",
              "    </tr>\n",
              "    <tr>\n",
              "      <th>34</th>\n",
              "      <td>BP _Systolic (mmHg)</td>\n",
              "      <td>0.016198</td>\n",
              "    </tr>\n",
              "    <tr>\n",
              "      <th>35</th>\n",
              "      <td>BP _Diastolic (mmHg)</td>\n",
              "      <td>0.315466</td>\n",
              "    </tr>\n",
              "    <tr>\n",
              "      <th>36</th>\n",
              "      <td>Follicle No. (L)</td>\n",
              "      <td>573.647927</td>\n",
              "    </tr>\n",
              "    <tr>\n",
              "      <th>37</th>\n",
              "      <td>Follicle No. (R)</td>\n",
              "      <td>672.789402</td>\n",
              "    </tr>\n",
              "    <tr>\n",
              "      <th>38</th>\n",
              "      <td>Avg. F size (L) (mm)</td>\n",
              "      <td>8.286384</td>\n",
              "    </tr>\n",
              "    <tr>\n",
              "      <th>39</th>\n",
              "      <td>Avg. F size (R) (mm)</td>\n",
              "      <td>3.668713</td>\n",
              "    </tr>\n",
              "    <tr>\n",
              "      <th>40</th>\n",
              "      <td>Endometrium (mm)</td>\n",
              "      <td>3.397687</td>\n",
              "    </tr>\n",
              "  </tbody>\n",
              "</table>\n",
              "</div>\n",
              "      <button class=\"colab-df-convert\" onclick=\"convertToInteractive('df-49ac34c8-c22f-4608-b97d-6653d8af1794')\"\n",
              "              title=\"Convert this dataframe to an interactive table.\"\n",
              "              style=\"display:none;\">\n",
              "        \n",
              "  <svg xmlns=\"http://www.w3.org/2000/svg\" height=\"24px\"viewBox=\"0 0 24 24\"\n",
              "       width=\"24px\">\n",
              "    <path d=\"M0 0h24v24H0V0z\" fill=\"none\"/>\n",
              "    <path d=\"M18.56 5.44l.94 2.06.94-2.06 2.06-.94-2.06-.94-.94-2.06-.94 2.06-2.06.94zm-11 1L8.5 8.5l.94-2.06 2.06-.94-2.06-.94L8.5 2.5l-.94 2.06-2.06.94zm10 10l.94 2.06.94-2.06 2.06-.94-2.06-.94-.94-2.06-.94 2.06-2.06.94z\"/><path d=\"M17.41 7.96l-1.37-1.37c-.4-.4-.92-.59-1.43-.59-.52 0-1.04.2-1.43.59L10.3 9.45l-7.72 7.72c-.78.78-.78 2.05 0 2.83L4 21.41c.39.39.9.59 1.41.59.51 0 1.02-.2 1.41-.59l7.78-7.78 2.81-2.81c.8-.78.8-2.07 0-2.86zM5.41 20L4 18.59l7.72-7.72 1.47 1.35L5.41 20z\"/>\n",
              "  </svg>\n",
              "      </button>\n",
              "      \n",
              "  <style>\n",
              "    .colab-df-container {\n",
              "      display:flex;\n",
              "      flex-wrap:wrap;\n",
              "      gap: 12px;\n",
              "    }\n",
              "\n",
              "    .colab-df-convert {\n",
              "      background-color: #E8F0FE;\n",
              "      border: none;\n",
              "      border-radius: 50%;\n",
              "      cursor: pointer;\n",
              "      display: none;\n",
              "      fill: #1967D2;\n",
              "      height: 32px;\n",
              "      padding: 0 0 0 0;\n",
              "      width: 32px;\n",
              "    }\n",
              "\n",
              "    .colab-df-convert:hover {\n",
              "      background-color: #E2EBFA;\n",
              "      box-shadow: 0px 1px 2px rgba(60, 64, 67, 0.3), 0px 1px 3px 1px rgba(60, 64, 67, 0.15);\n",
              "      fill: #174EA6;\n",
              "    }\n",
              "\n",
              "    [theme=dark] .colab-df-convert {\n",
              "      background-color: #3B4455;\n",
              "      fill: #D2E3FC;\n",
              "    }\n",
              "\n",
              "    [theme=dark] .colab-df-convert:hover {\n",
              "      background-color: #434B5C;\n",
              "      box-shadow: 0px 1px 3px 1px rgba(0, 0, 0, 0.15);\n",
              "      filter: drop-shadow(0px 1px 2px rgba(0, 0, 0, 0.3));\n",
              "      fill: #FFFFFF;\n",
              "    }\n",
              "  </style>\n",
              "\n",
              "      <script>\n",
              "        const buttonEl =\n",
              "          document.querySelector('#df-49ac34c8-c22f-4608-b97d-6653d8af1794 button.colab-df-convert');\n",
              "        buttonEl.style.display =\n",
              "          google.colab.kernel.accessAllowed ? 'block' : 'none';\n",
              "\n",
              "        async function convertToInteractive(key) {\n",
              "          const element = document.querySelector('#df-49ac34c8-c22f-4608-b97d-6653d8af1794');\n",
              "          const dataTable =\n",
              "            await google.colab.kernel.invokeFunction('convertToInteractive',\n",
              "                                                     [key], {});\n",
              "          if (!dataTable) return;\n",
              "\n",
              "          const docLinkHtml = 'Like what you see? Visit the ' +\n",
              "            '<a target=\"_blank\" href=https://colab.research.google.com/notebooks/data_table.ipynb>data table notebook</a>'\n",
              "            + ' to learn more about interactive tables.';\n",
              "          element.innerHTML = '';\n",
              "          dataTable['output_type'] = 'display_data';\n",
              "          await google.colab.output.renderOutput(dataTable, element);\n",
              "          const docLink = document.createElement('div');\n",
              "          docLink.innerHTML = docLinkHtml;\n",
              "          element.appendChild(docLink);\n",
              "        }\n",
              "      </script>\n",
              "    </div>\n",
              "  </div>\n",
              "  "
            ]
          },
          "metadata": {},
          "execution_count": 49
        }
      ],
      "source": [
        "features_rank.columns=['Features','Score']\n",
        "features_rank"
      ]
    },
    {
      "cell_type": "code",
      "execution_count": null,
      "metadata": {
        "colab": {
          "base_uri": "https://localhost:8080/",
          "height": 488
        },
        "id": "BXB-_PxQ6EJ_",
        "outputId": "95659577-7b08-4144-9a72-261d718dd50d"
      },
      "outputs": [
        {
          "output_type": "execute_result",
          "data": {
            "text/plain": [
              "                  Features        Score\n",
              "24          Vit D3 (ng/mL)  9477.648952\n",
              "13    I   beta-HCG(mIU/mL)  6950.525631\n",
              "16              LH(mIU/mL)  2558.471157\n",
              "15             FSH(mIU/mL)  1601.145511\n",
              "14  II    beta-HCG(mIU/mL)   949.362075\n",
              "37        Follicle No. (R)   672.789402\n",
              "36        Follicle No. (L)   573.647927\n",
              "22              AMH(ng/mL)   232.747856\n",
              "17                  FSH/LH    96.852985\n",
              "29    Skin darkening (Y/N)    84.870716\n",
              "28        hair growth(Y/N)    84.854623\n",
              "27        Weight gain(Y/N)    65.554147\n",
              "1              Weight (Kg)    49.607547\n",
              "32         Fast food (Y/N)    37.076527"
            ],
            "text/html": [
              "\n",
              "  <div id=\"df-ebfa8ade-e51f-46d0-96af-7823f0163842\">\n",
              "    <div class=\"colab-df-container\">\n",
              "      <div>\n",
              "<style scoped>\n",
              "    .dataframe tbody tr th:only-of-type {\n",
              "        vertical-align: middle;\n",
              "    }\n",
              "\n",
              "    .dataframe tbody tr th {\n",
              "        vertical-align: top;\n",
              "    }\n",
              "\n",
              "    .dataframe thead th {\n",
              "        text-align: right;\n",
              "    }\n",
              "</style>\n",
              "<table border=\"1\" class=\"dataframe\">\n",
              "  <thead>\n",
              "    <tr style=\"text-align: right;\">\n",
              "      <th></th>\n",
              "      <th>Features</th>\n",
              "      <th>Score</th>\n",
              "    </tr>\n",
              "  </thead>\n",
              "  <tbody>\n",
              "    <tr>\n",
              "      <th>24</th>\n",
              "      <td>Vit D3 (ng/mL)</td>\n",
              "      <td>9477.648952</td>\n",
              "    </tr>\n",
              "    <tr>\n",
              "      <th>13</th>\n",
              "      <td>I   beta-HCG(mIU/mL)</td>\n",
              "      <td>6950.525631</td>\n",
              "    </tr>\n",
              "    <tr>\n",
              "      <th>16</th>\n",
              "      <td>LH(mIU/mL)</td>\n",
              "      <td>2558.471157</td>\n",
              "    </tr>\n",
              "    <tr>\n",
              "      <th>15</th>\n",
              "      <td>FSH(mIU/mL)</td>\n",
              "      <td>1601.145511</td>\n",
              "    </tr>\n",
              "    <tr>\n",
              "      <th>14</th>\n",
              "      <td>II    beta-HCG(mIU/mL)</td>\n",
              "      <td>949.362075</td>\n",
              "    </tr>\n",
              "    <tr>\n",
              "      <th>37</th>\n",
              "      <td>Follicle No. (R)</td>\n",
              "      <td>672.789402</td>\n",
              "    </tr>\n",
              "    <tr>\n",
              "      <th>36</th>\n",
              "      <td>Follicle No. (L)</td>\n",
              "      <td>573.647927</td>\n",
              "    </tr>\n",
              "    <tr>\n",
              "      <th>22</th>\n",
              "      <td>AMH(ng/mL)</td>\n",
              "      <td>232.747856</td>\n",
              "    </tr>\n",
              "    <tr>\n",
              "      <th>17</th>\n",
              "      <td>FSH/LH</td>\n",
              "      <td>96.852985</td>\n",
              "    </tr>\n",
              "    <tr>\n",
              "      <th>29</th>\n",
              "      <td>Skin darkening (Y/N)</td>\n",
              "      <td>84.870716</td>\n",
              "    </tr>\n",
              "    <tr>\n",
              "      <th>28</th>\n",
              "      <td>hair growth(Y/N)</td>\n",
              "      <td>84.854623</td>\n",
              "    </tr>\n",
              "    <tr>\n",
              "      <th>27</th>\n",
              "      <td>Weight gain(Y/N)</td>\n",
              "      <td>65.554147</td>\n",
              "    </tr>\n",
              "    <tr>\n",
              "      <th>1</th>\n",
              "      <td>Weight (Kg)</td>\n",
              "      <td>49.607547</td>\n",
              "    </tr>\n",
              "    <tr>\n",
              "      <th>32</th>\n",
              "      <td>Fast food (Y/N)</td>\n",
              "      <td>37.076527</td>\n",
              "    </tr>\n",
              "  </tbody>\n",
              "</table>\n",
              "</div>\n",
              "      <button class=\"colab-df-convert\" onclick=\"convertToInteractive('df-ebfa8ade-e51f-46d0-96af-7823f0163842')\"\n",
              "              title=\"Convert this dataframe to an interactive table.\"\n",
              "              style=\"display:none;\">\n",
              "        \n",
              "  <svg xmlns=\"http://www.w3.org/2000/svg\" height=\"24px\"viewBox=\"0 0 24 24\"\n",
              "       width=\"24px\">\n",
              "    <path d=\"M0 0h24v24H0V0z\" fill=\"none\"/>\n",
              "    <path d=\"M18.56 5.44l.94 2.06.94-2.06 2.06-.94-2.06-.94-.94-2.06-.94 2.06-2.06.94zm-11 1L8.5 8.5l.94-2.06 2.06-.94-2.06-.94L8.5 2.5l-.94 2.06-2.06.94zm10 10l.94 2.06.94-2.06 2.06-.94-2.06-.94-.94-2.06-.94 2.06-2.06.94z\"/><path d=\"M17.41 7.96l-1.37-1.37c-.4-.4-.92-.59-1.43-.59-.52 0-1.04.2-1.43.59L10.3 9.45l-7.72 7.72c-.78.78-.78 2.05 0 2.83L4 21.41c.39.39.9.59 1.41.59.51 0 1.02-.2 1.41-.59l7.78-7.78 2.81-2.81c.8-.78.8-2.07 0-2.86zM5.41 20L4 18.59l7.72-7.72 1.47 1.35L5.41 20z\"/>\n",
              "  </svg>\n",
              "      </button>\n",
              "      \n",
              "  <style>\n",
              "    .colab-df-container {\n",
              "      display:flex;\n",
              "      flex-wrap:wrap;\n",
              "      gap: 12px;\n",
              "    }\n",
              "\n",
              "    .colab-df-convert {\n",
              "      background-color: #E8F0FE;\n",
              "      border: none;\n",
              "      border-radius: 50%;\n",
              "      cursor: pointer;\n",
              "      display: none;\n",
              "      fill: #1967D2;\n",
              "      height: 32px;\n",
              "      padding: 0 0 0 0;\n",
              "      width: 32px;\n",
              "    }\n",
              "\n",
              "    .colab-df-convert:hover {\n",
              "      background-color: #E2EBFA;\n",
              "      box-shadow: 0px 1px 2px rgba(60, 64, 67, 0.3), 0px 1px 3px 1px rgba(60, 64, 67, 0.15);\n",
              "      fill: #174EA6;\n",
              "    }\n",
              "\n",
              "    [theme=dark] .colab-df-convert {\n",
              "      background-color: #3B4455;\n",
              "      fill: #D2E3FC;\n",
              "    }\n",
              "\n",
              "    [theme=dark] .colab-df-convert:hover {\n",
              "      background-color: #434B5C;\n",
              "      box-shadow: 0px 1px 3px 1px rgba(0, 0, 0, 0.15);\n",
              "      filter: drop-shadow(0px 1px 2px rgba(0, 0, 0, 0.3));\n",
              "      fill: #FFFFFF;\n",
              "    }\n",
              "  </style>\n",
              "\n",
              "      <script>\n",
              "        const buttonEl =\n",
              "          document.querySelector('#df-ebfa8ade-e51f-46d0-96af-7823f0163842 button.colab-df-convert');\n",
              "        buttonEl.style.display =\n",
              "          google.colab.kernel.accessAllowed ? 'block' : 'none';\n",
              "\n",
              "        async function convertToInteractive(key) {\n",
              "          const element = document.querySelector('#df-ebfa8ade-e51f-46d0-96af-7823f0163842');\n",
              "          const dataTable =\n",
              "            await google.colab.kernel.invokeFunction('convertToInteractive',\n",
              "                                                     [key], {});\n",
              "          if (!dataTable) return;\n",
              "\n",
              "          const docLinkHtml = 'Like what you see? Visit the ' +\n",
              "            '<a target=\"_blank\" href=https://colab.research.google.com/notebooks/data_table.ipynb>data table notebook</a>'\n",
              "            + ' to learn more about interactive tables.';\n",
              "          element.innerHTML = '';\n",
              "          dataTable['output_type'] = 'display_data';\n",
              "          await google.colab.output.renderOutput(dataTable, element);\n",
              "          const docLink = document.createElement('div');\n",
              "          docLink.innerHTML = docLinkHtml;\n",
              "          element.appendChild(docLink);\n",
              "        }\n",
              "      </script>\n",
              "    </div>\n",
              "  </div>\n",
              "  "
            ]
          },
          "metadata": {},
          "execution_count": 50
        }
      ],
      "source": [
        "features_rank.nlargest(14,'Score')"
      ]
    },
    {
      "cell_type": "markdown",
      "metadata": {
        "id": "Eey6ueJKNMAJ"
      },
      "source": [
        "below is the code for 11 features"
      ]
    },
    {
      "cell_type": "code",
      "execution_count": null,
      "metadata": {
        "id": "4x8Gvt8lNOAC"
      },
      "outputs": [],
      "source": [
        "#splitting\n",
        "X=df.drop([\"Pulse rate(bpm) \",\"Height(Cm) \",\"PCOS (Y/N)\",\"Sl. No\",\"Patient File No.\",\"Unnamed: 44\",\"Weight (Kg)\",\"Weight gain(Y/N)\",\"Blood Group\",\"RR (breaths/min)\",\"Hb(g/dl)\",\"Cycle length(days)\",\"Pregnant(Y/N)\",\"No. of aborptions\",\"Hip(inch)\",\"Waist(inch)\",\"Waist:Hip Ratio\",\"TSH (mIU/L)\",\"PRL(ng/mL)\",\"RBS(mg/dl)\",\"Hair loss(Y/N)\",\"Reg.Exercise(Y/N)\",\"BP _Systolic (mmHg)\",\"BMI\",\" Age (yrs)\",\"Marraige Status (Yrs)\",\"Pimples(Y/N)\",\"PRG(ng/mL)\",\"Cycle(R/I)\",\"BP _Diastolic (mmHg)\",\"Avg. F size (L) (mm)\",\"Avg. F size (R) (mm)\",\"Endometrium (mm)\",\"Fast food (Y/N)\"],axis=1)"
      ]
    },
    {
      "cell_type": "markdown",
      "metadata": {
        "id": "LYBUn7Jp5tSG"
      },
      "source": [
        "# Train, Test and Split"
      ]
    },
    {
      "cell_type": "code",
      "execution_count": null,
      "metadata": {
        "id": "uo_lyZt-_GmL"
      },
      "outputs": [],
      "source": [
        "#train_test_split\n",
        "X_train, X_test, Y_train, Y_test=train_test_split(X,Y, test_size=0.15, stratify=Y, random_state=3000)"
      ]
    },
    {
      "cell_type": "code",
      "execution_count": null,
      "metadata": {
        "colab": {
          "base_uri": "https://localhost:8080/"
        },
        "id": "SYW2gnNT_Grx",
        "outputId": "786803eb-35a7-4041-9754-c428aedbd5c9"
      },
      "outputs": [
        {
          "output_type": "stream",
          "name": "stdout",
          "text": [
            "(541, 11) (459, 11) (82, 11)\n"
          ]
        }
      ],
      "source": [
        "print(X.shape, X_train.shape, X_test.shape)"
      ]
    },
    {
      "cell_type": "code",
      "execution_count": null,
      "metadata": {
        "colab": {
          "base_uri": "https://localhost:8080/"
        },
        "id": "aZwOL43C90ke",
        "outputId": "d7a14c87-4b60-4d5c-d053-da4460b12426"
      },
      "outputs": [
        {
          "output_type": "execute_result",
          "data": {
            "text/plain": [
              "  I   beta-HCG(mIU/mL)    1.121527e+07\n",
              "II    beta-HCG(mIU/mL)    2.572257e+06\n",
              "FSH(mIU/mL)               4.709858e+04\n",
              "LH(mIU/mL)                7.512253e+03\n",
              "FSH/LH                    3.683497e+03\n",
              "AMH(ng/mL)                3.456878e+01\n",
              "Vit D3 (ng/mL)            1.198590e+05\n",
              "hair growth(Y/N)          1.990963e-01\n",
              "Skin darkening (Y/N)      2.130828e-01\n",
              "Follicle No. (L)          1.788693e+01\n",
              "Follicle No. (R)          1.968599e+01\n",
              "dtype: float64"
            ]
          },
          "metadata": {},
          "execution_count": 54
        }
      ],
      "source": [
        "X.var()"
      ]
    },
    {
      "cell_type": "markdown",
      "metadata": {
        "id": "8tGy_OlPYJm-"
      },
      "source": [
        "# CATBooster Classifier"
      ]
    },
    {
      "cell_type": "code",
      "execution_count": null,
      "metadata": {
        "id": "VKJVbLK2YSgj"
      },
      "outputs": [],
      "source": [
        "features = list(X_train.columns)"
      ]
    },
    {
      "cell_type": "code",
      "execution_count": null,
      "metadata": {
        "id": "2W74ZTPCYSCh"
      },
      "outputs": [],
      "source": [
        "model = CatBoostClassifier(task_type='GPU',iterations=20,random_state=2021,eval_metric=\"F1\")"
      ]
    },
    {
      "cell_type": "code",
      "execution_count": null,
      "metadata": {
        "id": "8zuJcpbKxYA7"
      },
      "outputs": [],
      "source": [
        "from sklearn.model_selection import KFold\n",
        "kfold_validation=KFold(10)"
      ]
    },
    {
      "cell_type": "code",
      "execution_count": null,
      "metadata": {
        "id": "IwGF25FsYRv0",
        "colab": {
          "base_uri": "https://localhost:8080/",
          "height": 450,
          "referenced_widgets": [
            "ec4dbcb4a45e4a7181a4df1a7265dd4c"
          ]
        },
        "outputId": "4d40a159-06f1-448f-cd63-a8b7be951d45"
      },
      "outputs": [
        {
          "output_type": "display_data",
          "data": {
            "text/plain": [
              "MetricVisualizer(layout=Layout(align_self='stretch', height='500px'))"
            ],
            "application/vnd.jupyter.widget-view+json": {
              "version_major": 2,
              "version_minor": 0,
              "model_id": "ec4dbcb4a45e4a7181a4df1a7265dd4c"
            }
          },
          "metadata": {}
        },
        {
          "output_type": "stream",
          "name": "stdout",
          "text": [
            "Learning rate set to 0.384277\n",
            "0:\tlearn: 0.7985348\ttest: 0.8163265\tbest: 0.8163265 (0)\ttotal: 7.57ms\tremaining: 144ms\n",
            "1:\tlearn: 0.8450704\ttest: 0.8979592\tbest: 0.8979592 (1)\ttotal: 13.9ms\tremaining: 125ms\n",
            "2:\tlearn: 0.8218182\ttest: 0.8510638\tbest: 0.8979592 (1)\ttotal: 26.6ms\tremaining: 151ms\n",
            "3:\tlearn: 0.8333333\ttest: 0.8979592\tbest: 0.8979592 (1)\ttotal: 32.5ms\tremaining: 130ms\n",
            "4:\tlearn: 0.8256228\ttest: 0.8979592\tbest: 0.8979592 (1)\ttotal: 38.7ms\tremaining: 116ms\n",
            "5:\tlearn: 0.8551237\ttest: 0.9411765\tbest: 0.9411765 (5)\ttotal: 44.7ms\tremaining: 104ms\n",
            "6:\tlearn: 0.8510638\ttest: 0.9200000\tbest: 0.9411765 (5)\ttotal: 50.6ms\tremaining: 94.1ms\n",
            "7:\tlearn: 0.8719723\ttest: 0.9200000\tbest: 0.9411765 (5)\ttotal: 56.4ms\tremaining: 84.6ms\n",
            "8:\tlearn: 0.8750000\ttest: 0.9230769\tbest: 0.9411765 (5)\ttotal: 62.4ms\tremaining: 76.3ms\n",
            "9:\tlearn: 0.8780488\ttest: 0.9230769\tbest: 0.9411765 (5)\ttotal: 68.7ms\tremaining: 68.7ms\n",
            "10:\tlearn: 0.8780488\ttest: 0.9230769\tbest: 0.9411765 (5)\ttotal: 74.7ms\tremaining: 61.1ms\n",
            "11:\tlearn: 0.8780488\ttest: 0.9230769\tbest: 0.9411765 (5)\ttotal: 79.5ms\tremaining: 53ms\n",
            "12:\tlearn: 0.8741259\ttest: 0.9230769\tbest: 0.9411765 (5)\ttotal: 85.3ms\tremaining: 45.9ms\n",
            "13:\tlearn: 0.8750000\ttest: 0.9230769\tbest: 0.9411765 (5)\ttotal: 91.2ms\tremaining: 39.1ms\n",
            "14:\tlearn: 0.8819444\ttest: 0.9019608\tbest: 0.9411765 (5)\ttotal: 97ms\tremaining: 32.3ms\n",
            "15:\tlearn: 0.8888889\ttest: 0.9230769\tbest: 0.9411765 (5)\ttotal: 103ms\tremaining: 25.8ms\n",
            "16:\tlearn: 0.8896552\ttest: 0.9019608\tbest: 0.9411765 (5)\ttotal: 109ms\tremaining: 19.2ms\n",
            "17:\tlearn: 0.8865979\ttest: 0.9230769\tbest: 0.9411765 (5)\ttotal: 115ms\tremaining: 12.7ms\n",
            "18:\tlearn: 0.8865979\ttest: 0.9230769\tbest: 0.9411765 (5)\ttotal: 120ms\tremaining: 6.34ms\n",
            "19:\tlearn: 0.8941980\ttest: 0.9230769\tbest: 0.9411765 (5)\ttotal: 126ms\tremaining: 0us\n",
            "bestTest = 0.9411764706\n",
            "bestIteration = 5\n",
            "Shrink model to first 6 iterations.\n"
          ]
        },
        {
          "output_type": "execute_result",
          "data": {
            "text/plain": [
              "<catboost.core.CatBoostClassifier at 0x7ff5370997d0>"
            ]
          },
          "metadata": {},
          "execution_count": 58
        }
      ],
      "source": [
        "model.fit(X_train, Y_train, plot=True,eval_set=(X_test,Y_test))"
      ]
    },
    {
      "cell_type": "code",
      "execution_count": null,
      "metadata": {
        "id": "j7dP3xElcDAE",
        "colab": {
          "base_uri": "https://localhost:8080/"
        },
        "outputId": "e8627400-db22-46c8-93b8-7bf1eb6d9f73"
      },
      "outputs": [
        {
          "output_type": "stream",
          "name": "stdout",
          "text": [
            "Accuracy of Training Data: 0.9106753812636166\n"
          ]
        }
      ],
      "source": [
        "#Accuracy Score of training data for Cat Boost\n",
        "\n",
        "X_train_prediction=model.predict(X_train)\n",
        "Training_data_Accuracy=accuracy_score(X_train_prediction, Y_train)\n",
        "print('Accuracy of Training Data:',Training_data_Accuracy)"
      ]
    },
    {
      "cell_type": "code",
      "execution_count": null,
      "metadata": {
        "id": "oxuO8RSDMDAO",
        "colab": {
          "base_uri": "https://localhost:8080/"
        },
        "outputId": "7cc71a40-aa68-4133-c96b-65ffb33fa4c0"
      },
      "outputs": [
        {
          "output_type": "stream",
          "name": "stdout",
          "text": [
            "Accuracy of Testing Data: 0.9634146341463414\n"
          ]
        }
      ],
      "source": [
        "#Accuracy Score of testing data for Cat Boost\n",
        "\n",
        "X_test_prediction=model.predict(X_test)\n",
        "Testing_data_Accuracy=accuracy_score(X_test_prediction, Y_test)\n",
        "print('Accuracy of Testing Data:',Testing_data_Accuracy)"
      ]
    },
    {
      "cell_type": "code",
      "execution_count": null,
      "metadata": {
        "id": "rklU77uFTVhe",
        "colab": {
          "base_uri": "https://localhost:8080/"
        },
        "outputId": "5a45347b-ca89-4bbc-b39d-c47d60a99947"
      },
      "outputs": [
        {
          "output_type": "stream",
          "name": "stdout",
          "text": [
            "Precision of Training Data: 0.8066666666666666\n"
          ]
        }
      ],
      "source": [
        "#Precision Score of training data for Cat Boost\n",
        "\n",
        "X_train_prediction=model.predict(X_train)\n",
        "Training_data_Precision1o=precision_score(X_train_prediction, Y_train)\n",
        "print('Precision of Training Data:',Training_data_Precision1o)"
      ]
    },
    {
      "cell_type": "code",
      "execution_count": null,
      "metadata": {
        "id": "IIj0eTeqTVR_",
        "colab": {
          "base_uri": "https://localhost:8080/"
        },
        "outputId": "3f5613a8-e457-4ce6-ba1a-b378007007e9"
      },
      "outputs": [
        {
          "output_type": "stream",
          "name": "stdout",
          "text": [
            "Precision of Testing Data: 0.8888888888888888\n"
          ]
        }
      ],
      "source": [
        "#Precision Score of testing data for Cat Boost\n",
        "\n",
        "X_test_prediction=model.predict(X_test)\n",
        "Testing_data_Precision1o=precision_score(X_test_prediction, Y_test)\n",
        "print('Precision of Testing Data:',Testing_data_Precision1o)"
      ]
    },
    {
      "cell_type": "code",
      "execution_count": null,
      "metadata": {
        "id": "SDYTKLhdTuwe",
        "colab": {
          "base_uri": "https://localhost:8080/"
        },
        "outputId": "df759dcf-70d9-49c1-f90e-02bdab278854"
      },
      "outputs": [
        {
          "output_type": "stream",
          "name": "stdout",
          "text": [
            "Recall(sensitivity) of Training Data: 0.9097744360902256\n"
          ]
        }
      ],
      "source": [
        "#Recall_Score of training data for Cat Boost\n",
        "\n",
        "X_train_prediction=model.predict(X_train)\n",
        "Training_data_recall=recall_score(X_train_prediction, Y_train)\n",
        "print('Recall(sensitivity) of Training Data:',Training_data_recall)"
      ]
    },
    {
      "cell_type": "code",
      "execution_count": null,
      "metadata": {
        "id": "zABfebPHTukx",
        "colab": {
          "base_uri": "https://localhost:8080/"
        },
        "outputId": "99073120-fb25-4bec-a2a1-03b8a0140909"
      },
      "outputs": [
        {
          "output_type": "stream",
          "name": "stdout",
          "text": [
            "Recall(sensitivity) of Testing Data: 1.0\n"
          ]
        }
      ],
      "source": [
        "#Recall_Score of testing data for Cat Boost\n",
        "\n",
        "X_test_prediction=model.predict(X_test)\n",
        "Testing_data_recall=recall_score(X_test_prediction, Y_test)\n",
        "print('Recall(sensitivity) of Testing Data:',Testing_data_recall)"
      ]
    },
    {
      "cell_type": "code",
      "execution_count": null,
      "metadata": {
        "id": "sLxnILG5TuYX",
        "colab": {
          "base_uri": "https://localhost:8080/"
        },
        "outputId": "fc4b1a24-14ea-4102-de9a-8bcbf3bb44a7"
      },
      "outputs": [
        {
          "output_type": "stream",
          "name": "stdout",
          "text": [
            "F1_score of Training Data: 0.8551236749116607\n"
          ]
        }
      ],
      "source": [
        "#F1_Score of training data for CATboost\n",
        "\n",
        "X_train_prediction=model.predict(X_train)\n",
        "Training_data_F1=f1_score(X_train_prediction, Y_train)\n",
        "print('F1_score of Training Data:',Training_data_F1)"
      ]
    },
    {
      "cell_type": "code",
      "execution_count": null,
      "metadata": {
        "id": "2csdaarbTuMl",
        "colab": {
          "base_uri": "https://localhost:8080/"
        },
        "outputId": "d58ea96f-1c10-4051-f3cf-8c3e4ac72422"
      },
      "outputs": [
        {
          "output_type": "stream",
          "name": "stdout",
          "text": [
            "F1_score of Testing Data: 0.9411764705882353\n"
          ]
        }
      ],
      "source": [
        "#F1_Score of testing data for CATboost\n",
        "\n",
        "X_test_prediction=model.predict(X_test)\n",
        "Testing_data_F1=f1_score(X_test_prediction, Y_test)\n",
        "print('F1_score of Testing Data:',Testing_data_F1)"
      ]
    },
    {
      "cell_type": "code",
      "execution_count": null,
      "metadata": {
        "id": "4h3x91MWUJIx",
        "colab": {
          "base_uri": "https://localhost:8080/",
          "height": 500
        },
        "outputId": "bda79004-3d1f-43ed-ef9c-02329d768ff3"
      },
      "outputs": [
        {
          "output_type": "execute_result",
          "data": {
            "text/plain": [
              "<matplotlib.axes._subplots.AxesSubplot at 0x7ff53722af10>"
            ]
          },
          "metadata": {},
          "execution_count": 67
        },
        {
          "output_type": "display_data",
          "data": {
            "text/plain": [
              "<Figure size 576x576 with 2 Axes>"
            ],
            "image/png": "[encoded data removed]"
          },
          "metadata": {
            "needs_background": "light"
          }
        }
      ],
      "source": [
        "plt.subplots(figsize=(8,8))\n",
        "cf_matrix = confusion_matrix(Y_test,X_test_prediction )\n",
        "sns.heatmap(cf_matrix/np.sum(cf_matrix),fmt='.2%',  annot = True, annot_kws = {'size':15}, cmap = 'tab20c_r')"
      ]
    },
    {
      "cell_type": "code",
      "execution_count": null,
      "metadata": {
        "id": "w759TYeXbdLr",
        "colab": {
          "base_uri": "https://localhost:8080/",
          "height": 477
        },
        "outputId": "7cc469c4-d95e-4c4d-8eba-2f7059ab4005"
      },
      "outputs": [
        {
          "output_type": "stream",
          "name": "stdout",
          "text": [
            "Best Threshold Catboost =0.508028, G-Means=0.943\n",
            "Best threshold catboost from Youdens J Statistic =0.508028\n"
          ]
        },
        {
          "output_type": "display_data",
          "data": {
            "text/plain": [
              "<Figure size 504x504 with 1 Axes>"
            ],
            "image/png": "[encoded data removed]"
          },
          "metadata": {
            "needs_background": "light"
          }
        }
      ],
      "source": [
        "from sklearn.metrics import roc_curve\n",
        "from numpy import sqrt\n",
        "from numpy import argmax\n",
        "\n",
        "\n",
        "yhat1 = model.predict_proba(X_test)\n",
        "yhat1 = yhat1[:,1]\n",
        "fpr1, tpr1, threshold1 = roc_curve(Y_test,yhat1)\n",
        "gmeans1 = sqrt(tpr1*(1-fpr1))\n",
        "ix1 = argmax(gmeans1)\n",
        "j1 = tpr1-fpr1\n",
        "ixj1 = argmax(j1)\n",
        "btj1 = threshold1[ixj1]\n",
        "print('Best Threshold Catboost =%f, G-Means=%.3f'%(threshold1[ix1], gmeans1[ix1]))\n",
        "print('Best threshold catboost from Youdens J Statistic =%f'%(btj1))\n",
        "\n",
        "\n",
        "\n",
        "plt.figure(figsize=(7,7))\n",
        "plt.plot([0,1], [0,1], linestyle='--',label='No skill')\n",
        "\n",
        "plt.plot(fpr1, tpr1, marker='.',color='red',label='CATboost')\n",
        "plt.scatter(fpr1[ix1], tpr1[ix1], marker= 'o',color = 'black', label='Best threshold' )\n",
        "\n",
        "\n",
        "plt.xlabel('False Positive Rate')\n",
        "plt.ylabel('True Positive Rate')\n",
        "plt.legend()\n",
        "plt.show()"
      ]
    },
    {
      "cell_type": "markdown",
      "metadata": {
        "id": "4W-a43CCCd4c"
      },
      "source": [
        "Building Predictive System"
      ]
    },
    {
      "cell_type": "code",
      "execution_count": null,
      "metadata": {
        "id": "ee7P8UYsEQGg",
        "colab": {
          "base_uri": "https://localhost:8080/"
        },
        "outputId": "1176a4ee-5f06-49e3-fa09-1483712b4665"
      },
      "outputs": [
        {
          "output_type": "stream",
          "name": "stdout",
          "text": [
            "[1]\n",
            "seek medical help, you have PCOS\n"
          ]
        }
      ],
      "source": [
        "input_data=(494.08,494.08,5.54,0.88,6.295454545,6.63,49.7,0,0,13,15)\n",
        "\n",
        "#change input to numpy array\n",
        "input_data_as_numpy_array=np.asarray(input_data)\n",
        "\n",
        "#reshape array\n",
        "input_data_reshaped=input_data_as_numpy_array.reshape(1,-1)\n",
        "\n",
        "prediction=model.predict(input_data_reshaped)\n",
        "print(prediction)\n",
        "\n",
        "if(prediction[0]==0):\n",
        "  print('you do not have PCOS')\n",
        "else:\n",
        "    print('seek medical help, you have PCOS')\n"
      ]
    },
    {
      "cell_type": "markdown",
      "source": [
        "Saving the trained model"
      ],
      "metadata": {
        "id": "z234Vh4qiumh"
      }
    },
    {
      "cell_type": "code",
      "source": [
        "import pickle"
      ],
      "metadata": {
        "id": "QjLB0OvAixXW"
      },
      "execution_count": null,
      "outputs": []
    },
    {
      "cell_type": "code",
      "source": [
        "filename = 'trained_model.sav'\n",
        "pickle.dump(model,open(filename,'wb'))"
      ],
      "metadata": {
        "id": "Cc8FA7kIjh1I"
      },
      "execution_count": null,
      "outputs": []
    },
    {
      "cell_type": "markdown",
      "source": [
        "loading the saved model"
      ],
      "metadata": {
        "id": "9SDfiU_zkKtE"
      }
    },
    {
      "cell_type": "code",
      "source": [
        "loaded_model = pickle.load(open('trained_model.sav','rb'))"
      ],
      "metadata": {
        "id": "m_Iht8wJkMlZ"
      },
      "execution_count": null,
      "outputs": []
    },
    {
      "cell_type": "code",
      "source": [
        "input_data=(494.08,494.08,5.54,0.88,6.295454545,6.63,49.7,0,0,13,15)\n",
        "\n",
        "#change input to numpy array\n",
        "input_data_as_numpy_array=np.asarray(input_data)\n",
        "\n",
        "#reshape array\n",
        "input_data_reshaped=input_data_as_numpy_array.reshape(1,-1)\n",
        "\n",
        "prediction=loaded_model.predict(input_data_reshaped)\n",
        "print(prediction)\n",
        "\n",
        "if(prediction[0]==0):\n",
        "  print('you do not have PCOS')\n",
        "else:\n",
        "    print('seek medical help, you have PCOS')"
      ],
      "metadata": {
        "colab": {
          "base_uri": "https://localhost:8080/"
        },
        "id": "NdQCSG1llCtS",
        "outputId": "0c2f8063-108c-4f03-b3b6-898f72762d32"
      },
      "execution_count": null,
      "outputs": [
        {
          "output_type": "stream",
          "name": "stdout",
          "text": [
            "[1]\n",
            "seek medical help, you have PCOS\n"
          ]
        }
      ]
    }
  ],
  "metadata": {
    "accelerator": "GPU",
    "colab": {
      "provenance": []
    },
    "kernelspec": {
      "display_name": "Python 3",
      "name": "python3"
    },
    "language_info": {
      "name": "python"
    },
    "widgets": {
      "application/vnd.jupyter.widget-state+json": {
        "ec4dbcb4a45e4a7181a4df1a7265dd4c": {
          "model_module": "catboost-widget",
          "model_name": "CatboostWidgetModel",
          "model_module_version": "^1.0.0",
          "state": {
            "_dom_classes": [],
            "_model_module": "catboost-widget",
            "_model_module_version": "^1.0.0",
            "_model_name": "CatboostWidgetModel",
            "_view_count": null,
            "_view_module": "catboost-widget",
            "_view_module_version": "^1.0.0",
            "_view_name": "CatboostWidgetView",
            "data": {
              "catboost_info": {
                "path": "catboost_info",
                "name": "catboost_info",
                "content": {
                  "passed_iterations": 19,
                  "total_iterations": 20,
                  "data": {
                    "iterations": [
                      {
                        "learn": [
                          0.7985347985,
                          0.5498483695
                        ],
                        "iteration": 0,
                        "passed_time": 0.007571628801,
                        "remaining_time": 0.1438609472,
                        "test": [
                          0.8163265306,
                          0.5408115852
                        ]
                      },
                      {
                        "learn": [
                          0.8450704225,
                          0.450849612
                        ],
                        "iteration": 1,
                        "passed_time": 0.01386652866,
                        "remaining_time": 0.124798758,
                        "test": [
                          0.8979591837,
                          0.4445714718
                        ]
                      },
                      {
                        "learn": [
                          0.8218181818,
                          0.3918745585
                        ],
                        "iteration": 2,
                        "passed_time": 0.02662148695,
                        "remaining_time": 0.1508550927,
                        "test": [
                          0.8510638298,
                          0.3739557266
                        ]
                      },
                      {
                        "learn": [
                          0.8333333333,
                          0.3572040633
                        ],
                        "iteration": 3,
                        "passed_time": 0.03247266172,
                        "remaining_time": 0.1298906469,
                        "test": [
                          0.8979591837,
                          0.3395893748
                        ]
                      },
                      {
                        "learn": [
                          0.8256227758,
                          0.324458303
                        ],
                        "iteration": 4,
                        "passed_time": 0.03869655275,
                        "remaining_time": 0.1160896583,
                        "test": [
                          0.8979591837,
                          0.3032655251
                        ]
                      },
                      {
                        "learn": [
                          0.8551236749,
                          0.3002918385
                        ],
                        "iteration": 5,
                        "passed_time": 0.0446536962,
                        "remaining_time": 0.1041919578,
                        "test": [
                          0.9411764706,
                          0.2711823626
                        ]
                      },
                      {
                        "learn": [
                          0.8510638298,
                          0.2861701782
                        ],
                        "iteration": 6,
                        "passed_time": 0.05064383248,
                        "remaining_time": 0.09405283176,
                        "test": [
                          0.92,
                          0.2518142607
                        ]
                      },
                      {
                        "learn": [
                          0.8719723183,
                          0.2730744804
                        ],
                        "iteration": 7,
                        "passed_time": 0.05639452305,
                        "remaining_time": 0.08459178457,
                        "test": [
                          0.92,
                          0.2396718467
                        ]
                      },
                      {
                        "learn": [
                          0.875,
                          0.2616529776
                        ],
                        "iteration": 8,
                        "passed_time": 0.06241576866,
                        "remaining_time": 0.07628593947,
                        "test": [
                          0.9230769231,
                          0.2300062877
                        ]
                      },
                      {
                        "learn": [
                          0.8780487805,
                          0.2471303836
                        ],
                        "iteration": 9,
                        "passed_time": 0.06869281685,
                        "remaining_time": 0.06869281685,
                        "test": [
                          0.9230769231,
                          0.2217436535
                        ]
                      },
                      {
                        "learn": [
                          0.8780487805,
                          0.2385310753
                        ],
                        "iteration": 10,
                        "passed_time": 0.0746643332,
                        "remaining_time": 0.06108899989,
                        "test": [
                          0.9230769231,
                          0.2185257702
                        ]
                      },
                      {
                        "learn": [
                          0.8780487805,
                          0.232651322
                        ],
                        "iteration": 11,
                        "passed_time": 0.07952267348,
                        "remaining_time": 0.05301511566,
                        "test": [
                          0.9230769231,
                          0.2100550489
                        ]
                      },
                      {
                        "learn": [
                          0.8741258741,
                          0.2269944501
                        ],
                        "iteration": 12,
                        "passed_time": 0.08532582772,
                        "remaining_time": 0.04594467646,
                        "test": [
                          0.9230769231,
                          0.2066631317
                        ]
                      },
                      {
                        "learn": [
                          0.875,
                          0.2219131736
                        ],
                        "iteration": 13,
                        "passed_time": 0.09119158061,
                        "remaining_time": 0.03908210598,
                        "test": [
                          0.9230769231,
                          0.204738268
                        ]
                      },
                      {
                        "learn": [
                          0.8819444444,
                          0.215276448
                        ],
                        "iteration": 14,
                        "passed_time": 0.09701446916,
                        "remaining_time": 0.03233815639,
                        "test": [
                          0.9019607843,
                          0.2058932607
                        ]
                      },
                      {
                        "learn": [
                          0.8888888889,
                          0.2103463466
                        ],
                        "iteration": 15,
                        "passed_time": 0.1030504516,
                        "remaining_time": 0.0257626129,
                        "test": [
                          0.9230769231,
                          0.2028010299
                        ]
                      },
                      {
                        "learn": [
                          0.8896551724,
                          0.2069166595
                        ],
                        "iteration": 16,
                        "passed_time": 0.1088379512,
                        "remaining_time": 0.01920669726,
                        "test": [
                          0.9019607843,
                          0.2014626759
                        ]
                      },
                      {
                        "learn": [
                          0.8865979381,
                          0.2024804408
                        ],
                        "iteration": 17,
                        "passed_time": 0.1146279121,
                        "remaining_time": 0.01273643468,
                        "test": [
                          0.9230769231,
                          0.1988797537
                        ]
                      },
                      {
                        "learn": [
                          0.8865979381,
                          0.1972962756
                        ],
                        "iteration": 18,
                        "passed_time": 0.1203943551,
                        "remaining_time": 0.006336545007,
                        "test": [
                          0.9230769231,
                          0.1979905105
                        ]
                      },
                      {
                        "learn": [
                          0.8941979522,
                          0.1928682847
                        ],
                        "iteration": 19,
                        "passed_time": 0.1262723644,
                        "remaining_time": 0,
                        "test": [
                          0.9230769231,
                          0.2010305219
                        ]
                      }
                    ],
                    "meta": {
                      "test_sets": [
                        "test"
                      ],
                      "test_metrics": [
                        {
                          "best_value": "Max",
                          "name": "F1"
                        },
                        {
                          "best_value": "Min",
                          "name": "Logloss"
                        }
                      ],
                      "learn_metrics": [
                        {
                          "best_value": "Max",
                          "name": "F1"
                        },
                        {
                          "best_value": "Min",
                          "name": "Logloss"
                        }
                      ],
                      "launch_mode": "Train",
                      "parameters": "",
                      "iteration_count": 20,
                      "learn_sets": [
                        "learn"
                      ],
                      "name": "experiment"
                    }
                  }
                }
              }
            },
            "layout": "IPY_MODEL_089776542285475cb003849f6e69705c"
          }
        }
      }
    }
  },
  "nbformat": 4,
  "nbformat_minor": 0
}